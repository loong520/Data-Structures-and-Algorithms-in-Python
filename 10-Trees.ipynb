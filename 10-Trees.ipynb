{
 "cells": [
  {
   "cell_type": "markdown",
   "metadata": {
    "slideshow": {
     "slide_type": "slide"
    }
   },
   "source": [
    "### <center>2018 Winter CS101.10</center>\n",
    "\n",
    "# <center>树</center>\n",
    "\n",
    "##### <center>by tanzhuxiaqiu@huawei.com</center>"
   ]
  },
  {
   "cell_type": "markdown",
   "metadata": {
    "slideshow": {
     "slide_type": "slide"
    }
   },
   "source": [
    "## 实践项目\n",
    "\n",
    "- 分组\n",
    "- 课题\n",
    "- 开源"
   ]
  },
  {
   "cell_type": "markdown",
   "metadata": {
    "slideshow": {
     "slide_type": "slide"
    }
   },
   "source": [
    "## 回顾\n",
    "\n",
    "- 时间和空间复杂度\n",
    "- 线性数据结构"
   ]
  },
  {
   "cell_type": "markdown",
   "metadata": {
    "slideshow": {
     "slide_type": "slide"
    }
   },
   "source": [
    "## 今日议程\n",
    "\n",
    "1. 树\n",
    "2. 二叉树\n",
    "3. 二叉搜索树\n",
    "4. 平衡二叉搜索树\n",
    "5. 不严格平衡二叉搜索树"
   ]
  },
  {
   "cell_type": "markdown",
   "metadata": {
    "slideshow": {
     "slide_type": "slide"
    }
   },
   "source": [
    "## 树的基本概念\n",
    "\n",
    "非线性的数据结构\n",
    "\n",
    "![](img/10-2.jpg)"
   ]
  },
  {
   "cell_type": "markdown",
   "metadata": {
    "slideshow": {
     "slide_type": "slide"
    }
   },
   "source": [
    "### 树的定义和属性\n",
    "\n",
    "**树T**是将元素存储在一系列有限**节点**的集合，其中每个节点间保持有parent-children的关系，并满足以下的条件：\n",
    "\n",
    "- 如果树T不为空，则它一定具有一个称为**跟节点（Root）**的特殊节点，并且该节点没有父节点；\n",
    "- 每个非根节点v都有唯一的一个**父节点（Parent）**w，每个具有父节点w的节点都是节点w的一个孩子；\n",
    "- 同一个父节点之间是节点是**兄弟（Siblings）**关系；\n",
    "- 一个没有任何**子节点（Child）**的节点称为**叶子节点（Leaf Nodes）**；\n",
    "- 假定p是树T中的一个节点，那么p的**深度（Depth）**就是节点p的祖先（Ancestor）个数（不包括p本身），或者说是根节点到p的边的个数；\n",
    "- 树T中节点p的**高度（Height）**等于p到最远的叶子节点的最长路径（边数），如果p是叶子节点，则高度为0。\n"
   ]
  },
  {
   "cell_type": "markdown",
   "metadata": {
    "slideshow": {
     "slide_type": "subslide"
    }
   },
   "source": [
    "![](img/10-1.jpg)"
   ]
  },
  {
   "cell_type": "code",
   "execution_count": 1,
   "metadata": {
    "slideshow": {
     "slide_type": "slide"
    }
   },
   "outputs": [],
   "source": [
    "class TreeNode:\n",
    "    def __init__(self, data):\n",
    "        self._data = data\n",
    "        self._children = []\n",
    "\n",
    "    def __repr__(self, level=0):\n",
    "        res = \"\\t\" * level + repr(self._data) + \"\\n\"\n",
    "        for child in self._children:\n",
    "            res += child.__repr__(level+1)\n",
    "        return res"
   ]
  },
  {
   "cell_type": "code",
   "execution_count": 2,
   "metadata": {
    "slideshow": {
     "slide_type": "subslide"
    }
   },
   "outputs": [
    {
     "name": "stdout",
     "output_type": "stream",
     "text": [
      "'A'\n",
      "\t'B'\n",
      "\t\t'E'\n",
      "\t\t'F'\n",
      "\t'C'\n",
      "\t'D'\n",
      "\t\t'G'\n",
      "\t\t'H'\n",
      "\t\t\t'I'\n",
      "\t\t\t'J'\n",
      "\n"
     ]
    }
   ],
   "source": [
    "a = TreeNode('A')\n",
    "b = TreeNode('B')\n",
    "c = TreeNode('C')\n",
    "d = TreeNode('D')\n",
    "e = TreeNode('E')\n",
    "f = TreeNode('F')\n",
    "g = TreeNode('G')\n",
    "h = TreeNode('H')\n",
    "i = TreeNode('I')\n",
    "j = TreeNode('J')\n",
    "a._children.append(b)\n",
    "a._children.append(c)\n",
    "a._children.append(d)\n",
    "b._children.extend([e, f])\n",
    "d._children.extend([g, h])\n",
    "h._children.extend([i, j])\n",
    "print(a)"
   ]
  },
  {
   "cell_type": "markdown",
   "metadata": {
    "slideshow": {
     "slide_type": "slide"
    }
   },
   "source": [
    "## 二叉树\n",
    "\n",
    "每个节点最多只有两个子节点（即左子节点和右子节点）的树。"
   ]
  },
  {
   "cell_type": "markdown",
   "metadata": {
    "slideshow": {
     "slide_type": "fragment"
    }
   },
   "source": [
    "### 二叉树的种类\n",
    "\n",
    "- 满二叉树(Full Binary Tree): 所有的节点包含二个或零个子节点（不会只有一个子节点）\n",
    "- 完全二叉树(Complete Binary Tree)：除了最后一层外所有层都是满节点的状态\n",
    "- 完美二叉树(Perfect Binary Tree)：所有层的都是满节点的状态\n",
    "\n",
    "![](img/10-3.jpg)"
   ]
  },
  {
   "cell_type": "markdown",
   "metadata": {
    "slideshow": {
     "slide_type": "slide"
    }
   },
   "source": [
    "### 二叉树的存储\n",
    "\n",
    "- 顺序存储\n",
    "    - 根节点存储在数组下标i=1的位置；\n",
    "    - 如果节点存储在小标i的位置，则其左子节点存储在下标为2i的位置上，右子节点存储在下标为2i+1的位置上；\n",
    "    - 顺序存储更节省空间，但如果不是完全二叉树内存空间利用不紧凑。\n",
    "\n",
    "![](img/10-4.png)"
   ]
  },
  {
   "cell_type": "markdown",
   "metadata": {
    "slideshow": {
     "slide_type": "slide"
    }
   },
   "source": [
    "- 链式储存\n",
    "    - 把值、左右子树等相关信息存储到节点数据结构中；\n",
    "    - 节点的结构非常容易进行扩展；\n",
    "    - 更通用，空间利用更灵活，可以简单地存储层数较大的数。\n",
    "    \n",
    "![](img/10-5.png)"
   ]
  },
  {
   "cell_type": "markdown",
   "metadata": {
    "slideshow": {
     "slide_type": "slide"
    }
   },
   "source": [
    "### 二叉树的遍历\n",
    "\n",
    "![](img/8-6.jpg)"
   ]
  },
  {
   "cell_type": "markdown",
   "metadata": {
    "slideshow": {
     "slide_type": "subslide"
    }
   },
   "source": [
    "- 前序遍历：对于二叉树中任意节点来说，先获取此节点的值，再遍历其左子树，最后遍历其右子树\n",
    "```\n",
    "Algorithm preorder(p):\n",
    "    if p is None then\n",
    "        return\n",
    "    print p\n",
    "    preorder(p->left)\n",
    "    preorder(p->right)\n",
    "```"
   ]
  },
  {
   "cell_type": "markdown",
   "metadata": {
    "slideshow": {
     "slide_type": "subslide"
    }
   },
   "source": [
    "- 中序遍历：对于二叉树中任意节点来说，先遍历其左子树，再获取此节点的值，最后遍历其右子树\n",
    "```\n",
    "Algorithm inorder(p):\n",
    "    if p is None then\n",
    "        return\n",
    "    inorder(p->left)\n",
    "    print p\n",
    "    inorder(p->right)\n",
    "```"
   ]
  },
  {
   "cell_type": "markdown",
   "metadata": {
    "slideshow": {
     "slide_type": "subslide"
    }
   },
   "source": [
    "- 后序遍历：对于二叉树中任意节点来说，先遍历其左子树，再遍历其右子树，最后获取此节点的值\n",
    "```\n",
    "Algorithm postorder(p):\n",
    "    if p is None then\n",
    "        return\n",
    "    postorder(p->left)\n",
    "    postorder(p->right)\n",
    "    print p\n",
    "```"
   ]
  },
  {
   "cell_type": "markdown",
   "metadata": {
    "slideshow": {
     "slide_type": "slide"
    }
   },
   "source": [
    "## 二叉搜索树(Binary Search Tree)\n",
    "\n",
    "- 一种特殊的二叉树形式，支持数据快速的插入、查找和删除\n",
    "- 任意节点的左子树的值小于这个节点的值\n",
    "- 任意节点的右子树的值大于这个节点的值\n",
    "\n",
    "思考：如果有重复的值BST怎么处理？\n",
    "\n",
    "![](img/10-6.png)"
   ]
  },
  {
   "cell_type": "markdown",
   "metadata": {
    "slideshow": {
     "slide_type": "slide"
    }
   },
   "source": [
    "### 二叉搜索树的插入\n",
    "\n",
    "![](img/10-8.gif \"BST-insertion\")"
   ]
  },
  {
   "cell_type": "markdown",
   "metadata": {
    "slideshow": {
     "slide_type": "slide"
    }
   },
   "source": [
    "### 二叉搜索树的查找\n",
    "\n",
    "![](img/10-9.gif)"
   ]
  },
  {
   "cell_type": "code",
   "execution_count": 3,
   "metadata": {
    "slideshow": {
     "slide_type": "slide"
    }
   },
   "outputs": [],
   "source": [
    "class Node:\n",
    "    def __init__(self, data):\n",
    "        self._data = data\n",
    "        self._left = None\n",
    "        self._right = None\n",
    "\n",
    "    def __iter__(self):\n",
    "        if self._left:\n",
    "            yield from self._left\n",
    "        yield self._data\n",
    "        if self._right:\n",
    "            yield from self._right\n",
    "\n",
    "    def display(self):\n",
    "        lines, _, _, _ = self._display_aux()\n",
    "        for line in lines:\n",
    "            print(line)\n",
    "\n",
    "    def _display_aux(self):\n",
    "        \"\"\"Returns list of strings, width, height, and horizontal coordinate of the root.\"\"\"\n",
    "        # No child.\n",
    "        if self._right is None and self._left is None:\n",
    "            line = '%s' % self._data\n",
    "            width = len(line)\n",
    "            height = 1\n",
    "            middle = width // 2\n",
    "            return [line], width, height, middle\n",
    "\n",
    "        # Only left child.\n",
    "        if self._right is None:\n",
    "            lines, n, p, x = self._left._display_aux()\n",
    "            s = '%s' % self._data\n",
    "            u = len(s)\n",
    "            first_line = (x + 1) * ' ' + (n - x - 1) * '_' + s\n",
    "            second_line = x * ' ' + '/' + (n - x - 1 + u) * ' '\n",
    "            shifted_lines = [line + u * ' ' for line in lines]\n",
    "            return [first_line, second_line] + shifted_lines, n + u, p + 2, n + u // 2\n",
    "\n",
    "        # Only right child.\n",
    "        if self._left is None:\n",
    "            lines, n, p, x = self._right._display_aux()\n",
    "            s = '%s' % self._data\n",
    "            u = len(s)\n",
    "            first_line = s + x * '_' + (n - x) * ' '\n",
    "            second_line = (u + x) * ' ' + '\\\\' + (n - x - 1) * ' '\n",
    "            shifted_lines = [u * ' ' + line for line in lines]\n",
    "            return [first_line, second_line] + shifted_lines, n + u, p + 2, u // 2\n",
    "\n",
    "        # Two children.\n",
    "        left, n, p, x = self._left._display_aux()\n",
    "        right, m, q, y = self._right._display_aux()\n",
    "        s = '%s' % self._data\n",
    "        u = len(s)\n",
    "        first_line = (x + 1) * ' ' + (n - x - 1) * '_' + s + y * '_' + (m - y) * ' '\n",
    "        second_line = x * ' ' + '/' + (n - x - 1 + u + y) * ' ' + '\\\\' + (m - y - 1) * ' '\n",
    "        if p < q:\n",
    "            left += [n * ' '] * (q - p)\n",
    "        elif q < p:\n",
    "            right += [m * ' '] * (p - q)\n",
    "        zipped_lines = zip(left, right)\n",
    "        lines = [first_line, second_line] + [a + u * ' ' + b for a, b in zipped_lines]\n",
    "        return lines, n + m + u, max(p, q) + 2, n + u // 2"
   ]
  },
  {
   "cell_type": "code",
   "execution_count": 4,
   "metadata": {
    "slideshow": {
     "slide_type": "slide"
    }
   },
   "outputs": [],
   "source": [
    "class BinarySearchTree:\n",
    "    def __init__(self, iterable=None):\n",
    "        self._root = None\n",
    "        if iterable:\n",
    "            for v in iterable:\n",
    "                self.insert(v)\n",
    "\n",
    "    def __len__(self):\n",
    "        return self._size(self._root)\n",
    "\n",
    "    def __repr__(self):\n",
    "        return ' '.join(map(str, self.get_root()))\n",
    "\n",
    "    def _size(self, node):\n",
    "        if node is None:\n",
    "            return 0\n",
    "        return 1 + self._size(node._left) + self._size(node._right)\n",
    "\n",
    "    def get_root(self):\n",
    "        return self._root\n",
    "\n",
    "    def insert(self, data):\n",
    "        if self._root is None:\n",
    "            self._root = Node(data)\n",
    "        else:\n",
    "            self._recur_insert(self._root, data)\n",
    "\n",
    "    def _recur_insert(self, node, data):\n",
    "        if data == node._data:\n",
    "            return\n",
    "        elif data < node._data:\n",
    "            if node._left:\n",
    "                self._recur_insert(node._left, data)\n",
    "            else:\n",
    "                node._left = Node(data)\n",
    "        else:\n",
    "            if node._right:\n",
    "                self._recur_insert(node._right, data)\n",
    "            else:\n",
    "                node._right = Node(data)\n",
    "\n",
    "    def search(self, data):\n",
    "        return self._recur_search(self._root, data)\n",
    "\n",
    "    def _recur_search(self, node, data):\n",
    "        if node is None:\n",
    "            return False\n",
    "        if data == node._data:\n",
    "            return True\n",
    "        elif data < node._data:\n",
    "            return self._recur_search(node._left, data)\n",
    "        else:\n",
    "            return self._recur_search(node._right, data)\n"
   ]
  },
  {
   "cell_type": "code",
   "execution_count": 5,
   "metadata": {
    "slideshow": {
     "slide_type": "slide"
    }
   },
   "outputs": [
    {
     "data": {
      "text/plain": [
       "11 14 18 19 21 25 27 28 30 32"
      ]
     },
     "execution_count": 5,
     "metadata": {},
     "output_type": "execute_result"
    }
   ],
   "source": [
    "bst = BinarySearchTree()\n",
    "bst.insert(21)\n",
    "bst.insert(28)\n",
    "bst.insert(14)\n",
    "bst.insert(32)\n",
    "bst.insert(25)\n",
    "bst.insert(18)\n",
    "bst.insert(11)\n",
    "bst.insert(30)\n",
    "bst.insert(19)\n",
    "bst.insert(27)\n",
    "bst"
   ]
  },
  {
   "cell_type": "code",
   "execution_count": 6,
   "metadata": {
    "slideshow": {
     "slide_type": "fragment"
    }
   },
   "outputs": [
    {
     "name": "stdout",
     "output_type": "stream",
     "text": [
      "    ____21_____     \n",
      "   /           \\    \n",
      "  14_       __28___ \n",
      " /   \\     /       \\\n",
      "11  18_   25_     32\n",
      "       \\     \\   /  \n",
      "      19    27  30  \n"
     ]
    }
   ],
   "source": [
    "bst.get_root().display()"
   ]
  },
  {
   "cell_type": "code",
   "execution_count": 7,
   "metadata": {
    "slideshow": {
     "slide_type": "fragment"
    }
   },
   "outputs": [
    {
     "data": {
      "text/plain": [
       "True"
      ]
     },
     "execution_count": 7,
     "metadata": {},
     "output_type": "execute_result"
    }
   ],
   "source": [
    " bst.search(27)"
   ]
  },
  {
   "cell_type": "markdown",
   "metadata": {
    "slideshow": {
     "slide_type": "slide"
    }
   },
   "source": [
    "### 二叉搜索树的删除\n",
    "\n",
    "删除操作相比插入和查找复杂，主要考虑以下三种情况：\n",
    "\n",
    "- 如果删除的节点是叶子节点，直接将此节点删除；\n",
    "- 如果删除节点只有一个子节点，用其子节点来替代它的位置；\n",
    "- 如果删除节点有两个子节点，找到这个节点右子树中最小的左子节点，用找到到的最小子节点来替换删除节点。"
   ]
  },
  {
   "cell_type": "markdown",
   "metadata": {
    "slideshow": {
     "slide_type": "subslide"
    }
   },
   "source": [
    "![](img/10-10.png)"
   ]
  },
  {
   "cell_type": "markdown",
   "metadata": {
    "slideshow": {
     "slide_type": "fragment"
    }
   },
   "source": [
    "![](img/10-11.png)"
   ]
  },
  {
   "cell_type": "markdown",
   "metadata": {
    "slideshow": {
     "slide_type": "fragment"
    }
   },
   "source": [
    "![](img/10-12.png)"
   ]
  },
  {
   "cell_type": "markdown",
   "metadata": {
    "slideshow": {
     "slide_type": "slide"
    }
   },
   "source": [
    "二叉搜索树删除操作的具体实现\n",
    "\n",
    "```python\n",
    "def delete(self, data):\n",
    "    node = self.get_root()\n",
    "    parent = None\n",
    "    # 遍历定位到待删除节点和其父节点\n",
    "    while node and node._data != data:\n",
    "        parent = node\n",
    "        if data < node._data:\n",
    "            node = node._left\n",
    "        else:\n",
    "            node = node._right\n",
    "    if node is None:\n",
    "        return\n",
    "\n",
    "    # 如果待删除节点有左右子树\n",
    "    if node._left and node._right:\n",
    "        rightMinNode = node._right\n",
    "        rightMinNodeParent = node\n",
    "        while rightMinNode._left:\n",
    "            rightMinNodeParent = rightMinNode\n",
    "            rightMinNode = rightMinNode._left\n",
    "        node._data = rightMinNode._data\n",
    "        node = rightMinNode\n",
    "        parent = rightMinNodeParent\n",
    "\n",
    "    # 待删除节点只有一个子节点或者没有子节点\n",
    "    child = None\n",
    "    if node._left is not None:\n",
    "        child = node._left\n",
    "    elif node._right is not None:\n",
    "        child = node._right\n",
    "\n",
    "    if parent is None: # 如果删除跟节点\n",
    "        self._root = child\n",
    "    elif parent._left == node:\n",
    "        parent._left = child\n",
    "    else:\n",
    "        parent._right = child\n",
    "```"
   ]
  },
  {
   "cell_type": "markdown",
   "metadata": {
    "slideshow": {
     "slide_type": "slide"
    }
   },
   "source": [
    "### 二叉搜索树的遍历"
   ]
  },
  {
   "cell_type": "code",
   "execution_count": 8,
   "metadata": {
    "slideshow": {
     "slide_type": "fragment"
    }
   },
   "outputs": [
    {
     "data": {
      "text/plain": [
       "[21, 14, 11, 18, 19, 28, 25, 27, 32, 30]"
      ]
     },
     "execution_count": 8,
     "metadata": {},
     "output_type": "execute_result"
    }
   ],
   "source": [
    "def preorder(node):\n",
    "    if node:\n",
    "        yield node._data\n",
    "        yield from preorder(node._left)\n",
    "        yield from preorder(node._right)\n",
    "\n",
    "[i for i in preorder(bst.get_root())]"
   ]
  },
  {
   "cell_type": "code",
   "execution_count": 9,
   "metadata": {
    "slideshow": {
     "slide_type": "fragment"
    }
   },
   "outputs": [
    {
     "data": {
      "text/plain": [
       "[11, 14, 18, 19, 21, 25, 27, 28, 30, 32]"
      ]
     },
     "execution_count": 9,
     "metadata": {},
     "output_type": "execute_result"
    }
   ],
   "source": [
    "def inorder(node):\n",
    "    if node: \n",
    "        yield from inorder(node._left)\n",
    "        yield node._data\n",
    "        yield from inorder(node._right)\n",
    "\n",
    "[i for i in inorder(bst.get_root())]"
   ]
  },
  {
   "cell_type": "code",
   "execution_count": 10,
   "metadata": {
    "slideshow": {
     "slide_type": "fragment"
    }
   },
   "outputs": [
    {
     "data": {
      "text/plain": [
       "[11, 19, 18, 14, 27, 25, 30, 32, 28, 21]"
      ]
     },
     "execution_count": 10,
     "metadata": {},
     "output_type": "execute_result"
    }
   ],
   "source": [
    "def postorder(node):\n",
    "    if node: \n",
    "        yield from postorder(node._left)\n",
    "        yield from postorder(node._right)\n",
    "        yield node._data\n",
    "\n",
    "[i for i in postorder(bst.get_root())]"
   ]
  },
  {
   "cell_type": "markdown",
   "metadata": {
    "slideshow": {
     "slide_type": "fragment"
    }
   },
   "source": [
    "注：二叉搜索树的中序遍历可以按照升序的方式输出所有节点的值。"
   ]
  },
  {
   "cell_type": "markdown",
   "metadata": {
    "slideshow": {
     "slide_type": "slide"
    }
   },
   "source": [
    "### 二叉搜索树的时间复杂度分析\n",
    "\n",
    "- 从上一节的代码实现来看，无论是查找还是插入和删除操作都需要从根节点沿着一条路径遍历到目标节点，所以时间复杂度应该和树高相关，O(Height)\n",
    "- 但是二次搜索树的形态不固定，可能出现极端的情况：\n",
    "    - 不平衡二叉搜索树 O(n)\n",
    "    - 平衡二叉搜索树 O(logn)\n",
    "\n",
    "![](img/8-13.jpg)"
   ]
  },
  {
   "cell_type": "markdown",
   "metadata": {
    "slideshow": {
     "slide_type": "fragment"
    }
   },
   "source": [
    "![](img/10-13.jpg)"
   ]
  },
  {
   "cell_type": "code",
   "execution_count": 11,
   "metadata": {
    "slideshow": {
     "slide_type": "slide"
    }
   },
   "outputs": [
    {
     "name": "stdout",
     "output_type": "stream",
     "text": [
      "0         \n",
      " \\        \n",
      " 1        \n",
      "  \\       \n",
      "  2       \n",
      "   \\      \n",
      "   3      \n",
      "    \\     \n",
      "    4     \n",
      "     \\    \n",
      "     5    \n",
      "      \\   \n",
      "      6   \n",
      "       \\  \n",
      "       7  \n",
      "        \\ \n",
      "        8 \n",
      "         \\\n",
      "         9\n"
     ]
    }
   ],
   "source": [
    "data = [x for x in range(10)]\n",
    "bst1 = BinarySearchTree(data)\n",
    "bst1.get_root().display()"
   ]
  },
  {
   "cell_type": "code",
   "execution_count": 12,
   "metadata": {
    "slideshow": {
     "slide_type": "fragment"
    }
   },
   "outputs": [
    {
     "name": "stdout",
     "output_type": "stream",
     "text": [
      "  _3__    \n",
      " /    \\   \n",
      " 1   _6   \n",
      "/ \\ /  \\  \n",
      "0 2 4  7  \n",
      "     \\  \\ \n",
      "     5  8 \n",
      "         \\\n",
      "         9\n"
     ]
    }
   ],
   "source": [
    "import random\n",
    "random.shuffle(data)\n",
    "bst2 = BinarySearchTree(data)\n",
    "bst2.get_root().display()"
   ]
  },
  {
   "cell_type": "markdown",
   "metadata": {
    "slideshow": {
     "slide_type": "slide"
    }
   },
   "source": [
    "### 二叉搜索树的复杂度总结\n",
    "\n",
    "|Algorithm|Average|Worst case|\n",
    "|---|---|---|\n",
    "|Space|O(n)|O(n)|\n",
    "|Search|$O(log n)$|O(n)|\n",
    "|Insert|$O(log n)$|O(n)|\n",
    "|Delete|$O(log n)$|O(n)|"
   ]
  },
  {
   "cell_type": "markdown",
   "metadata": {
    "slideshow": {
     "slide_type": "fragment"
    }
   },
   "source": [
    "#### 二分搜索树 v.s. 散列表\n",
    "\n",
    ">思考：散列表的插入、删除和查找的时间复杂度是O(1)，为什么还需要二分搜索树？\n",
    "\n",
    "- 散列表中的元素时无序的，而二分搜索树只要通过一次中序遍历就可以在$O(n)$内输出一个有序序列\n",
    "- 散列表扩容时性能消耗大，非常不稳定，而二分搜索树性能稳定在$O(log n)$\n",
    "- 同样散列表因为散列冲突，查找性能也没有二分搜索树稳定\n",
    "- 散列表构造复杂，需要考虑散列函数设计，冲突解决办法，扩容缩容策略等，而二分搜索树只需要考虑一个平衡性的问题"
   ]
  },
  {
   "cell_type": "markdown",
   "metadata": {
    "slideshow": {
     "slide_type": "slide"
    }
   },
   "source": [
    "## AVL树（平衡二叉搜索树）\n",
    "\n",
    "- 用发明人G.M. Adelson-Velskii 和E.M.Landis和名字命名\n",
    "- 初衷是想解决普通二叉查找树在频繁的插入、删除等动态更新的情况下，出现时间复杂度退化的问题\n",
    "- 每个节点通过左右子树(最高子树)的高可以计算出一个平衡因子：**balanceFactor = height(leftSubTree) - height(rightSubTree)**\n",
    "- AVL树就要保证任意一个节点的左右子树的高度相差不能大于1，即每个节点的平衡因子只能是1,0或-1。\n",
    "\n",
    "![](img/8-14.png)"
   ]
  },
  {
   "cell_type": "markdown",
   "metadata": {
    "slideshow": {
     "slide_type": "fragment"
    }
   },
   "source": [
    "![](img/10-14.png)"
   ]
  },
  {
   "cell_type": "markdown",
   "metadata": {
    "slideshow": {
     "slide_type": "slide"
    }
   },
   "source": [
    "### AVL树的操作\n",
    "\n",
    "- 插入、删除元素都类似于二叉搜索树的操作\n",
    "- 但是要进行预先或随后做一次或多次\"AVL旋转\"的动作(最终达到平衡)\n",
    "\n",
    "![](img/10-15.png)"
   ]
  },
  {
   "cell_type": "markdown",
   "metadata": {
    "slideshow": {
     "slide_type": "slide"
    }
   },
   "source": [
    "### AVL树的代码实现\n",
    "\n",
    "- [Python实现](https://github.com/shaqsnake/Data-Structures-and-Algorithms-in-Python/blob/master/src/ch10/avl_tree.py)"
   ]
  },
  {
   "cell_type": "markdown",
   "metadata": {
    "slideshow": {
     "slide_type": "slide"
    }
   },
   "source": [
    "### AVL树的复杂度\n",
    "\n",
    "|Algorithm|Average|Worst case|\n",
    "|---|---|---|\n",
    "|Space|O(n)|O(n)|\n",
    "|Search|$O(log n)$|$O(log n)$|\n",
    "|Insert|$O(log n)$|$O(log n)$|\n",
    "|Delete|$O(log n)$|$O(log n)$|"
   ]
  },
  {
   "cell_type": "markdown",
   "metadata": {
    "slideshow": {
     "slide_type": "slide"
    }
   },
   "source": [
    "## 红黑树(Red-Black Tree)\n",
    "\n",
    "- 一种不严格的平衡二叉搜索树：左右子树比较“对称”，比较“平衡”，不会出现左右子树高度差过大的情况\n",
    "- 工业中最常用的平衡二叉搜索树\n",
    "\n",
    "### 红黑树的定义\n",
    "\n",
    "- 节点是红色或黑色\n",
    "- 根是黑色\n",
    "- 所有叶子都是黑色（叶子是NIL节点，即不能存储数据）\n",
    "- 每个红色节点必须有两个黑色的子节点（从每个叶子到根的所有路径上不能有两个连续的红色节点，即红色节点被黑色节点隔离开）\n",
    "- 从任一节点到其每个叶子的所有简单路径都包含相同数目的黑色节点"
   ]
  },
  {
   "cell_type": "markdown",
   "metadata": {
    "slideshow": {
     "slide_type": "subslide"
    }
   },
   "source": [
    "![](img/10-16.png)"
   ]
  },
  {
   "cell_type": "markdown",
   "metadata": {
    "slideshow": {
     "slide_type": "slide"
    }
   },
   "source": [
    "### 红黑树的操作和实现\n",
    "\n",
    "- [Wikipedia](https://en.wikipedia.org/wiki/Red%E2%80%93black_tree)\n",
    "- [Python实现](https://github.com/shaqsnake/Data-Structures-and-Algorithms-in-Python/blob/master/src/ch10/red_black_tree.py)"
   ]
  },
  {
   "cell_type": "markdown",
   "metadata": {
    "slideshow": {
     "slide_type": "slide"
    }
   },
   "source": [
    "### 红黑树的复杂度\n",
    "\n",
    "|Algorithm|Average|Worst case|\n",
    "|---|---|---|\n",
    "|Space|O(n)|O(n)|\n",
    "|Search|$O(log n)$|$O(log n)$|\n",
    "|Insert|$O(log n)$|$O(log n)$|\n",
    "|Delete|$O(log n)$|$O(log n)$|\n",
    "\n",
    "### 红黑树 v.s. AVL树\n",
    "\n",
    "- AVL树严格保持平衡，所以查找效率上优于近似平衡的红黑树\n",
    "- 但是AVL树在插入、删除动作后都要维持平衡，代价较高；红黑树维护平衡的成本更低\n",
    "- 因为红黑树的查找、插入和删除各种操作更稳定，所以工业级的应用中更多选择红黑树\n"
   ]
  },
  {
   "cell_type": "markdown",
   "metadata": {
    "slideshow": {
     "slide_type": "slide"
    }
   },
   "source": [
    "## 多讲一点\n",
    "\n",
    "\n",
    "[台大Floorplanning讲义](http://cc.ee.ntu.edu.tw/~ywchang/Courses/PD_Source/EDA_floorplanning.pdf)\n",
    "\n",
    "[VLSI Physical Design](https://www.youtube.com/channel/UCTSQnoUHhScO2ceUfqRHaKw/videos)\n"
   ]
  },
  {
   "cell_type": "markdown",
   "metadata": {
    "slideshow": {
     "slide_type": "fragment"
    }
   },
   "source": [
    "### 最后一次课\n",
    "\n",
    "- 堆\n",
    "- B+树\n",
    "- 跳表\n",
    "- ..."
   ]
  },
  {
   "cell_type": "markdown",
   "metadata": {
    "slideshow": {
     "slide_type": "slide"
    }
   },
   "source": [
    "# Any Questions?"
   ]
  },
  {
   "cell_type": "markdown",
   "metadata": {
    "slideshow": {
     "slide_type": "slide"
    }
   },
   "source": [
    "## 课后作业 Assignment-07\n",
    "\n",
    "1) 反转一个二叉树，例如：\n",
    "\n",
    "输入: \n",
    "\n",
    "                    4\n",
    "                 /      \\\n",
    "               2         7\n",
    "              / \\       /   \\\n",
    "            1     3    6     9\n",
    "\n",
    "输出:  \n",
    "\n",
    "                    4\n",
    "                 /      \\\n",
    "               7         2\n",
    "              / \\       /   \\\n",
    "            9     6    3     1"
   ]
  },
  {
   "cell_type": "markdown",
   "metadata": {
    "slideshow": {
     "slide_type": "slide"
    }
   },
   "source": [
    "2）计算二叉树的高度。\n",
    "注：空节点的二叉树高度为0， 一个节点的二叉树高度为1，一个有根节点且包含至少一个子节点的二叉树高度为2，以此类推...\n",
    "例如下面这颗叉树的高度为4。\n",
    "\n",
    "\n",
    "                    9\n",
    "                 /      \\\n",
    "               6         12\n",
    "              / \\       /   \\\n",
    "            3     8   10      15\n",
    "                 /              \\\n",
    "                7                18"
   ]
  }
 ],
 "metadata": {
  "celltoolbar": "Slideshow",
  "kernelspec": {
   "display_name": "Python 3",
   "language": "python",
   "name": "python3"
  },
  "language_info": {
   "codemirror_mode": {
    "name": "ipython",
    "version": 3
   },
   "file_extension": ".py",
   "mimetype": "text/x-python",
   "name": "python",
   "nbconvert_exporter": "python",
   "pygments_lexer": "ipython3",
   "version": "3.6.5"
  }
 },
 "nbformat": 4,
 "nbformat_minor": 2
}

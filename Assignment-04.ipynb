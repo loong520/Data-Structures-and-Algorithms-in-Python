{
 "cells": [
  {
   "cell_type": "markdown",
   "metadata": {
    "slideshow": {
     "slide_type": "slide"
    }
   },
   "source": [
    "## 课后作业 Assignment-04\n",
    "\n",
    "1) 已知有两个序列pushed和popped分别表示了对栈的push和pop的元素顺序，用Python实现一个函数validateStackSequences(pushed, popped):确定这个两个对栈的操作序列能否可以在一个空栈上操作成功。\n",
    "\n",
    "```python\n",
    "def validateStackSequences(self, pushed, popped):\n",
    "    \"\"\"Return True if and only if this sequence of pushed and popped operations can been operated on an empty stack successfully.\n",
    "    :type pushed: List[int]\n",
    "    :type popped: List[int]\n",
    "    :rtype: bool\n",
    "    \"\"\"\n",
    "    pass\n",
    "```\n",
    "\n",
    "\n",
    ">例子1：  \n",
    ">输入: pushed = [1, 2, 3, 4, 5], popped = [4, 5, 3, 2, 1]  \n",
    ">输出: True  \n",
    ">解释: 可以按照以下顺利对一个空栈进行操作 —— push(1), push(2), push(3), push(4), pop() -> 4,\n",
    "push(5), pop() -> 5, pop() -> 3, pop() -> 2, pop() -> 1\n",
    "\n",
    ">例子2:  \n",
    "输入: pushed = [1, 2, 3, 4, 5], popped = [4, 3, 5, 1, 2]  \n",
    "输出: False  \n",
    "解释: 在popped指定的操作顺序下，元素1不能先于元素2执行弹出操作。\n",
    "\n",
    "注：\n",
    "- 0 <= len(pushed) == len(popped) <= 1000\n",
    "- 0 <= pushed[i], popped[i] < 1000\n",
    "- popped序列可以看做是pushed序列的一个重排列，\n",
    "- pushed序列中的值不重复，popped序列中的值也不重复。"
   ]
  },
  {
   "cell_type": "markdown",
   "metadata": {
    "slideshow": {
     "slide_type": "slide"
    }
   },
   "source": [
    "2) 用Python实现一个算法，该算法可以找出一个序列中每个元素后续出现的第一个比它大的元素，并记录这个比它大的元素的索引。如果在右边找不到比此元素更大的值则在输出的相对应位置上记录-1。\n",
    "\n",
    "```python\n",
    "def findRightFirstLargeNum(l):\n",
    "    \"\"\"\n",
    "    :type l: List[int]\n",
    "    :rtype: List[int]\n",
    "    \"\"\"\n",
    "```\n",
    "\n",
    ">例子1：  \n",
    "输入：[2, 6, 0, 1, 7, 3, 5, 8, 4, 9]  \n",
    "输出：[1, 4, 3, 4, 7, 6, 7, 9, 9, -1]  \n",
    "解释：对于输入中的第一个元素“2”来说，其右边第一个比它大的数是“6”，所以输出的结果中第一个元素应该记录“6”的索引就是“1”；对于输入中第二个元素“6”来说，其右边第一个比它大的数是“7”，所以输出结果中第二个元素应该记录“7”所在的索引是“4”；依次类推。。。\n",
    "\n",
    ">例子2:  \n",
    "输入：[7, 6, 3, 5, 8, 1, 9, 4, 0, 2]  \n",
    "输出：[4, 4, 3, 4, 6, 6, -1, -1, 9, -1] "
   ]
  },
  {
   "cell_type": "markdown",
   "metadata": {
    "slideshow": {
     "slide_type": "slide"
    }
   },
   "source": [
    "3)参考课件中Circular Queue环形队列的代码，自己实现一个Circular Deque环形双端队列。\n",
    "注：可以不必继承课件中的Deque ADT，而直接实现Circular deque，但是必须包括以下的基本功能，\n",
    "\n",
    "- add_first(e): 如果deque还有空位，就在队列的头部插入一个新元素e。\n",
    "- add_last(e): 如果deque还有空位，就在队列的尾部插入一个新元素e。\n",
    "- del_first(): 如果deque不为空，就删除队列头部的第一个元素。\n",
    "- del_last(): 如果deque不为空，就删除队列尾部的第一个元素。\n",
    "- first(): 如果deque不为空，则返回其头部的第一个元素的值，但并不删除此元素。\n",
    "- last(): 如果deque不为空，则返回其尾部的第一个元素的值，但并不删除此元素。"
   ]
  }
 ],
 "metadata": {
  "celltoolbar": "Slideshow",
  "kernelspec": {
   "display_name": "Python 3",
   "language": "python",
   "name": "python3"
  },
  "language_info": {
   "codemirror_mode": {
    "name": "ipython",
    "version": 3
   },
   "file_extension": ".py",
   "mimetype": "text/x-python",
   "name": "python",
   "nbconvert_exporter": "python",
   "pygments_lexer": "ipython3",
   "version": "3.6.5"
  }
 },
 "nbformat": 4,
 "nbformat_minor": 2
}

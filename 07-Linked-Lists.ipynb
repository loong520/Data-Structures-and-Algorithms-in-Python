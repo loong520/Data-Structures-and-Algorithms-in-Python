{
 "cells": [
  {
   "cell_type": "markdown",
   "metadata": {
    "slideshow": {
     "slide_type": "slide"
    }
   },
   "source": [
    "### <center>2018 Winter CS101.07</center>\n",
    "\n",
    "# <center>链表</center>\n",
    "\n",
    "##### <center>by tanzhuxiaqiu@huawei.com</center>"
   ]
  },
  {
   "cell_type": "markdown",
   "metadata": {
    "slideshow": {
     "slide_type": "slide"
    }
   },
   "source": [
    "## 回顾\n",
    "\n",
    "- 动态数组\n",
    "- 栈\n",
    "- 队列"
   ]
  },
  {
   "cell_type": "markdown",
   "metadata": {
    "slideshow": {
     "slide_type": "slide"
    }
   },
   "source": [
    "## 今日议程\n",
    "\n",
    "1. 单向链表\n",
    "2. 环形链表\n",
    "3. 双向链表\n",
    "4. 链表 v.s. 数组"
   ]
  },
  {
   "cell_type": "markdown",
   "metadata": {
    "slideshow": {
     "slide_type": "slide"
    }
   },
   "source": [
    "## 单向链表\n",
    "\n",
    "多个节点（Node）集合组成的一个线性序列。\n",
    "\n",
    "#### 单向链表的节点\n",
    "\n",
    "- 元素成员：表示节点存储的元素值\n",
    "- 指针成员：指向单向链表中的后继节点，如果没有后继则为空\n",
    "\n",
    "![](img/7-1.png)"
   ]
  },
  {
   "cell_type": "markdown",
   "metadata": {
    "slideshow": {
     "slide_type": "subslide"
    }
   },
   "source": [
    "- 头节点：链表中第一个节点\n",
    "- 尾节点：链表中最后一个节点\n",
    "\n",
    "![](img/7-2.png)"
   ]
  },
  {
   "cell_type": "code",
   "execution_count": 1,
   "metadata": {
    "slideshow": {
     "slide_type": "slide"
    }
   },
   "outputs": [],
   "source": [
    "class SinglyLinkedListNode:\n",
    "    __slots__ = ('_element', '_next')\n",
    "\n",
    "    def __init__(self, e):\n",
    "        self._element = e\n",
    "        self._next = None"
   ]
  },
  {
   "cell_type": "markdown",
   "metadata": {
    "slideshow": {
     "slide_type": "slide"
    }
   },
   "source": [
    "### 单向链表的几个基本操作\n",
    "\n",
    "\n",
    "[visualgo](https://visualgo.net/en/list)\n",
    "\n",
    "#### 在单向链表头部插入一个元素\n",
    "\n",
    "![](img/7-6.png)\n",
    "\n",
    "伪代码\n",
    "```\n",
    "Algorithm add_first(L, e):\n",
    "    n = Node(e)\n",
    "    n.next = L.head #1\n",
    "    L.head = n #2\n",
    "    L.size += 1\n",
    "```"
   ]
  },
  {
   "cell_type": "markdown",
   "metadata": {
    "slideshow": {
     "slide_type": "subslide"
    }
   },
   "source": [
    "#### 在单向链表尾部插入一个元素\n",
    "\n",
    "伪代码\n",
    "\n",
    "![](img/7-7.png)\n",
    "\n",
    "```\n",
    "Algorithm add_last(L, e):\n",
    "    n = Node(e)\n",
    "    n.next = None\n",
    "    L.tail.next = n #1\n",
    "    L.tail = n #2\n",
    "    L.size += 1\n",
    "```"
   ]
  },
  {
   "cell_type": "markdown",
   "metadata": {
    "slideshow": {
     "slide_type": "subslide"
    }
   },
   "source": [
    "#### 在单向链表头部删除一个元素\n",
    "\n",
    "伪代码\n",
    "\n",
    "```\n",
    "Algorithm del_first(L):\n",
    "    if L.head in None then\n",
    "        raise an error: the list is empty\n",
    "    L.head = L.head.next\n",
    "    L.size -= 1\n",
    "```\n",
    "\n",
    "#### 思考：如何在单向链表的尾部删除一个元素？"
   ]
  },
  {
   "cell_type": "markdown",
   "metadata": {
    "slideshow": {
     "slide_type": "slide"
    }
   },
   "source": [
    "### 利用单向链表实现一个栈\n",
    "\n",
    "- 把单向链表的头部作为栈顶"
   ]
  },
  {
   "cell_type": "code",
   "execution_count": 2,
   "metadata": {
    "slideshow": {
     "slide_type": "slide"
    }
   },
   "outputs": [],
   "source": [
    "from abc import ABC, abstractmethod\n",
    "\n",
    "\n",
    "class AbstractStack(ABC):\n",
    "    \"\"\"Abstract Class for Stacks.\"\"\"\n",
    "    def __init__(self):\n",
    "        self._top = -1\n",
    "\n",
    "    def __len__(self):\n",
    "        return self._top + 1\n",
    "\n",
    "    def __repr__(self):\n",
    "        res = \"->\".join(map(str, self))\n",
    "        return 'Top->' + res\n",
    "\n",
    "    def is_empty(self):\n",
    "        return self._top == -1\n",
    "\n",
    "    @abstractmethod\n",
    "    def __iter__(self):\n",
    "        raise NotImplementedError\n",
    "\n",
    "    @abstractmethod\n",
    "    def push(self, e):\n",
    "        raise NotImplementedError\n",
    "\n",
    "    @abstractmethod\n",
    "    def pop(self):\n",
    "        raise NotImplementedError\n",
    "\n",
    "    @abstractmethod\n",
    "    def peek(self):\n",
    "        raise NotImplementedError\n"
   ]
  },
  {
   "cell_type": "code",
   "execution_count": 3,
   "metadata": {
    "slideshow": {
     "slide_type": "slide"
    }
   },
   "outputs": [],
   "source": [
    "class LinkedListStack(AbstractStack):\n",
    "\n",
    "    def __init__(self):\n",
    "        super().__init__()\n",
    "        self._head = None\n",
    "\n",
    "    def __iter__(self):\n",
    "        p = self._head\n",
    "        while p is not None:\n",
    "            yield p._element\n",
    "            p = p._next\n",
    "\n",
    "    def push(self, e):\n",
    "        node = SinglyLinkedListNode(e)\n",
    "        node._next = self._head\n",
    "        self._head = node\n",
    "        self._top += 1\n",
    "\n",
    "    def pop(self):\n",
    "        if self.is_empty():\n",
    "            raise IndexError('Stack is empty')\n",
    "        res = self._head._element\n",
    "        self._head = self._head._next\n",
    "        self._top -= 1\n",
    "        return res\n",
    "\n",
    "    def peek(self):\n",
    "        if self.is_empty():\n",
    "            raise IndexError('Stack is empty')\n",
    "        return self._head._element"
   ]
  },
  {
   "cell_type": "code",
   "execution_count": 4,
   "metadata": {
    "slideshow": {
     "slide_type": "slide"
    }
   },
   "outputs": [
    {
     "data": {
      "text/plain": [
       "Top->4->3->2->1->0"
      ]
     },
     "execution_count": 4,
     "metadata": {},
     "output_type": "execute_result"
    }
   ],
   "source": [
    "stack = LinkedListStack()\n",
    "for i in range(5):\n",
    "    stack.push(i)\n",
    "stack"
   ]
  },
  {
   "cell_type": "code",
   "execution_count": 5,
   "metadata": {
    "slideshow": {
     "slide_type": "fragment"
    }
   },
   "outputs": [
    {
     "name": "stdout",
     "output_type": "stream",
     "text": [
      "4\n",
      "3\n",
      "2\n",
      "Top->1->0\n"
     ]
    }
   ],
   "source": [
    "print(stack.pop())\n",
    "print(stack.pop())\n",
    "print(stack.pop())\n",
    "print(stack)"
   ]
  },
  {
   "cell_type": "markdown",
   "metadata": {
    "slideshow": {
     "slide_type": "slide"
    }
   },
   "source": [
    "#### 基于单向链表的栈的时间复杂度\n",
    "\n",
    "|操作|示例|时间复杂度|\n",
    "|---|---|---|---|\n",
    "| Push | S.push(e) | O(1) |\n",
    "| Pop | S.pop() | O(1) |\n",
    "| Peek | S.peek() | O(1) |\n",
    "| Is empty | S.is_empty() | O(1) |\n",
    "| Length | len(S) | O(1) |"
   ]
  },
  {
   "cell_type": "markdown",
   "metadata": {
    "slideshow": {
     "slide_type": "slide"
    }
   },
   "source": [
    "### 利用单向链表实现一个队列\n",
    "\n",
    "- 需要维护头部和尾部两个指针\n",
    "- 因为很难在单向链表尾部删除元素，所以出队列的操作应该放在单向链表的头部完成\n",
    "- 入队在单向链表的尾部完成"
   ]
  },
  {
   "cell_type": "code",
   "execution_count": 6,
   "metadata": {
    "slideshow": {
     "slide_type": "slide"
    }
   },
   "outputs": [],
   "source": [
    "from abc import ABC, abstractmethod\n",
    "\n",
    "\n",
    "class AbstractQueue(ABC):\n",
    "\n",
    "    def __init__(self):\n",
    "        self._size = 0\n",
    "\n",
    "    def __len__(self):\n",
    "        return self._size\n",
    "\n",
    "    def __repr__(self):\n",
    "        return \"->\".join(map(str, self))\n",
    "\n",
    "    def is_empty(self):\n",
    "        return self._size == 0\n",
    "\n",
    "    @abstractmethod\n",
    "    def enqueue(self, e):\n",
    "        raise NotImplementedError\n",
    "\n",
    "    @abstractmethod\n",
    "    def dequeue(self):\n",
    "        raise NotImplementedError\n",
    "\n",
    "    @abstractmethod\n",
    "    def peek(self):\n",
    "        raise NotImplementedError\n",
    "\n",
    "    @abstractmethod\n",
    "    def __iter__(self):\n",
    "        raise NotImplementedError"
   ]
  },
  {
   "cell_type": "code",
   "execution_count": 7,
   "metadata": {
    "slideshow": {
     "slide_type": "slide"
    }
   },
   "outputs": [],
   "source": [
    "class LinkedListQueue(AbstractQueue):\n",
    "\n",
    "    def __init__(self):\n",
    "        super().__init__()\n",
    "        self._head = None\n",
    "        self._tail = None\n",
    "\n",
    "    def __iter__(self):\n",
    "        p = self._head\n",
    "        while p is not None:\n",
    "            yield p._element\n",
    "            p = p._next\n",
    "\n",
    "    def enqueue(self, e):\n",
    "        node = SinglyLinkedListNode(e)\n",
    "        if self.is_empty():\n",
    "            self._head = node\n",
    "        else:\n",
    "            self._tail._next = node\n",
    "        self._tail = node\n",
    "        self._size += 1\n",
    "\n",
    "    def dequeue(self):\n",
    "        if self.is_empty():\n",
    "            raise IndexError(\"Queue is empty\")\n",
    "        res = self._head._element\n",
    "        self._head = self._head._next\n",
    "        self._size -= 1\n",
    "        if self.is_empty():\n",
    "            self._tail = None\n",
    "        return res\n",
    "\n",
    "    def peek(self):\n",
    "        if self.is_empty():\n",
    "            raise IndexError(\"Queue is empty\")\n",
    "        return self._head._element"
   ]
  },
  {
   "cell_type": "code",
   "execution_count": 8,
   "metadata": {
    "slideshow": {
     "slide_type": "slide"
    }
   },
   "outputs": [
    {
     "name": "stdout",
     "output_type": "stream",
     "text": [
      "0->1->2->3->4\n"
     ]
    }
   ],
   "source": [
    "queue = LinkedListQueue()\n",
    "for i in range(5):\n",
    "    queue.enqueue(i)\n",
    "print(queue)"
   ]
  },
  {
   "cell_type": "code",
   "execution_count": 9,
   "metadata": {
    "slideshow": {
     "slide_type": "fragment"
    }
   },
   "outputs": [
    {
     "name": "stdout",
     "output_type": "stream",
     "text": [
      "0\n",
      "1\n",
      "2\n",
      "3->4\n"
     ]
    }
   ],
   "source": [
    "print(queue.dequeue())\n",
    "print(queue.dequeue())\n",
    "print(queue.dequeue())\n",
    "print(queue)"
   ]
  },
  {
   "cell_type": "markdown",
   "metadata": {
    "slideshow": {
     "slide_type": "slide"
    }
   },
   "source": [
    "## 环形链表\n",
    "\n",
    "### Circular Linked List\n",
    "\n",
    "- 将链表尾部的指针指向链表自己的头部\n",
    "- 相比利用数组和取模运算实现的环形结构，环形链表实现了物理上的闭环、\n",
    "\n",
    "![](img/7-3.png)"
   ]
  },
  {
   "cell_type": "markdown",
   "metadata": {
    "slideshow": {
     "slide_type": "slide"
    }
   },
   "source": [
    "### 利用环形链表实现环形队列\n",
    "\n",
    "- 只需要一个尾指针即可完成队列的基本操作\n",
    "- 新增一个rotate()方法实现队列的轮转（头部第一个元素排到队列的末尾，也可以理解为第一个元素出列后再入列）"
   ]
  },
  {
   "cell_type": "code",
   "execution_count": 10,
   "metadata": {
    "slideshow": {
     "slide_type": "slide"
    }
   },
   "outputs": [],
   "source": [
    "class CircularQueue(AbstractQueue):\n",
    "    def __init__(self):\n",
    "        super().__init__()\n",
    "        self._tail = None\n",
    "\n",
    "    def __iter__(self):\n",
    "        p = self._tail._next\n",
    "        while True:\n",
    "            yield p._element\n",
    "            if p is self._tail:\n",
    "                return\n",
    "            p = p._next\n",
    "\n",
    "    def enqueue(self, e):\n",
    "        node = SinglyLinkedListNode(e)\n",
    "        if self.is_empty():\n",
    "            node._next = node\n",
    "        else:\n",
    "            node._next = self._tail._next\n",
    "            self._tail._next = node\n",
    "        self._tail = node\n",
    "        self._size += 1\n",
    "\n",
    "    def dequeue(self):\n",
    "        remove_node = self._tail._next\n",
    "        if len(self) == 1:\n",
    "            self._tail = None\n",
    "        else:\n",
    "            self._tail._next = remove_node._next\n",
    "        self._size -= 1\n",
    "        return remove_node._element\n",
    "\n",
    "    def peek(self):\n",
    "        return self._tail._next._element\n",
    "\n",
    "    def rotate(self):\n",
    "        if len(self) > 0:\n",
    "            self._tail = self._tail._next"
   ]
  },
  {
   "cell_type": "code",
   "execution_count": 11,
   "metadata": {
    "slideshow": {
     "slide_type": "slide"
    }
   },
   "outputs": [
    {
     "name": "stdout",
     "output_type": "stream",
     "text": [
      "0->1->2->3->4\n",
      "0\n",
      "1\n"
     ]
    }
   ],
   "source": [
    "queue = CircularQueue()\n",
    "for i in range(5):\n",
    "    queue.enqueue(i)\n",
    "print(queue)\n",
    "print(queue.dequeue())\n",
    "print(queue.dequeue())"
   ]
  },
  {
   "cell_type": "code",
   "execution_count": 12,
   "metadata": {
    "slideshow": {
     "slide_type": "fragment"
    }
   },
   "outputs": [
    {
     "name": "stdout",
     "output_type": "stream",
     "text": [
      "2->3->4\n",
      "3->4->2\n"
     ]
    }
   ],
   "source": [
    "print(queue)\n",
    "queue.rotate()\n",
    "print(queue)"
   ]
  },
  {
   "cell_type": "markdown",
   "metadata": {
    "slideshow": {
     "slide_type": "slide"
    }
   },
   "source": [
    "## 双向链表\n",
    "\n",
    "因为单向链表的不对称性带来了一些缺陷：\n",
    "\n",
    "- 因为不能定位前驱节点，难以删除链表中除头节点外的任意节点\n",
    "- 只能单向遍历链表\n",
    "\n",
    "#### Double Linked List\n",
    "如果一个链表中每个节点（Node）都同时维护了指向其前驱节点和后继节点的引用，我们称这种链表为双向链表。"
   ]
  },
  {
   "cell_type": "markdown",
   "metadata": {
    "slideshow": {
     "slide_type": "slide"
    }
   },
   "source": [
    "#### 双向链表的节点\n",
    "\n",
    "- 元素成员：表示节点存储的元素值\n",
    "- 前驱指针成员：指向链表中的前驱节点，如果没有前驱则为空\n",
    "- 后继指针成员：指向链表中的后继节点，如果没有后继则为空\n",
    "- 哨兵节点：使链表在头尾的插入和删除操作更简便\n",
    "\n",
    "![](img/7-4.png)"
   ]
  },
  {
   "cell_type": "code",
   "execution_count": 13,
   "metadata": {
    "slideshow": {
     "slide_type": "slide"
    }
   },
   "outputs": [],
   "source": [
    "class DoubleLinkedListNode:\n",
    "    __slots__ = ('_element', '_prev', '_next')\n",
    "\n",
    "    def __init__(self, e):\n",
    "        self._element = e\n",
    "        self._prev = None\n",
    "        self._next = None"
   ]
  },
  {
   "cell_type": "markdown",
   "metadata": {
    "slideshow": {
     "slide_type": "slide"
    }
   },
   "source": [
    "### 利用双向链表实现双端队列\n",
    "\n",
    "- 设置哨兵节点\n",
    "- 将插入和删除元素的操作统一化"
   ]
  },
  {
   "cell_type": "code",
   "execution_count": 14,
   "metadata": {
    "slideshow": {
     "slide_type": "slide"
    }
   },
   "outputs": [],
   "source": [
    "class DoubleLinkedList:\n",
    "    class _Node:\n",
    "        __slots__ = ('_element', '_prev', '_next')\n",
    "\n",
    "        def __init__(self, e):\n",
    "            self._element = e\n",
    "            self._prev = None\n",
    "            self._next = None\n",
    "\n",
    "    def __init__(self):\n",
    "        \"\"\"Create a empty double linked list.\n",
    "        \"\"\"\n",
    "        self._header = self._Node(None)\n",
    "        self._tailer = self._Node(None)\n",
    "        self._header._next = self._tailer\n",
    "        self._tailer._prev = self._header\n",
    "        self._size = 0\n",
    "\n",
    "    def __len__(self):\n",
    "        return self._size\n",
    "\n",
    "    def __iter__(self):\n",
    "        p = self._header._next\n",
    "        while p is not self._tailer:\n",
    "            yield p._element\n",
    "            p = p._next\n",
    "\n",
    "    def __repr__(self):\n",
    "        res = ' <-> '.join(map(str, self))\n",
    "        return 'header <-> ' + res + ' <-> tailer'\n",
    "\n",
    "    def is_empty(self):\n",
    "        return self._size == 0\n",
    "\n",
    "    def _insert_between(self, e, predecessor, successor):\n",
    "        \"\"\"Add a node betweent two existing nodes.\n",
    "        \"\"\"\n",
    "        node = self._Node(e)\n",
    "        node._prev = predecessor\n",
    "        node._next = successor\n",
    "        predecessor._next = node\n",
    "        successor._prev = node\n",
    "        self._size += 1\n",
    "        return node\n",
    "\n",
    "    def _remove_node(self, node):\n",
    "        \"\"\"Remove node from the double linked list.\n",
    "        \"\"\"\n",
    "        predecessor = node._prev\n",
    "        successor = node._next\n",
    "        predecessor._next = successor\n",
    "        successor._prev = predecessor\n",
    "        self._size -= 1\n",
    "        res = node._element\n",
    "        node._prev = node._next = node._element = None\n",
    "        return res"
   ]
  },
  {
   "cell_type": "code",
   "execution_count": 15,
   "metadata": {
    "slideshow": {
     "slide_type": "slide"
    }
   },
   "outputs": [],
   "source": [
    "class LinkedDeque(DoubleLinkedList):\n",
    "    def first(self):\n",
    "        if self.is_empty():\n",
    "            raise IndexError(\"Deque is empty\")\n",
    "        return self._header._next._element\n",
    "\n",
    "    def last(self):\n",
    "        if self.is_empty():\n",
    "            raise IndexError(\"Deque is empty\")\n",
    "        return self._tailer._prev._element\n",
    "\n",
    "    def add_first(self, e):\n",
    "        self._insert_between(e, self._header, self._header._next)\n",
    "\n",
    "    def add_last(self, e):\n",
    "        self._insert_between(e, self._tailer._prev, self._tailer)\n",
    "\n",
    "    def del_first(self):\n",
    "        if self.is_empty():\n",
    "            raise IndexError(\"Deque is empty\")\n",
    "        return self._remove_node(self._header._next)\n",
    "\n",
    "    def del_last(self):\n",
    "        if self.is_empty():\n",
    "            raise IndexError(\"Deque is empty\")\n",
    "        return self._remove_node(self._tailer._prev)"
   ]
  },
  {
   "cell_type": "code",
   "execution_count": 16,
   "metadata": {
    "slideshow": {
     "slide_type": "slide"
    }
   },
   "outputs": [
    {
     "name": "stdout",
     "output_type": "stream",
     "text": [
      "header <-> 4 <-> 3 <-> 2 <-> 1 <-> 0 <-> a <-> b <-> c <-> d <-> e <-> tailer\n"
     ]
    }
   ],
   "source": [
    "deque = LinkedDeque()\n",
    "for i in range(5):\n",
    "    deque.add_first(i)\n",
    "for x in 'abcde':\n",
    "    deque.add_last(x)\n",
    "print(deque)"
   ]
  },
  {
   "cell_type": "code",
   "execution_count": 17,
   "metadata": {
    "scrolled": true,
    "slideshow": {
     "slide_type": "fragment"
    }
   },
   "outputs": [
    {
     "name": "stdout",
     "output_type": "stream",
     "text": [
      "4\n",
      "3\n",
      "2\n",
      "e\n",
      "d\n",
      "c\n",
      "header <-> 1 <-> 0 <-> a <-> b <-> tailer\n"
     ]
    }
   ],
   "source": [
    "print(deque.del_first())\n",
    "print(deque.del_first())\n",
    "print(deque.del_first())\n",
    "print(deque.del_last())\n",
    "print(deque.del_last())\n",
    "print(deque.del_last())\n",
    "print(deque)"
   ]
  },
  {
   "cell_type": "markdown",
   "metadata": {
    "slideshow": {
     "slide_type": "slide"
    }
   },
   "source": [
    "## 链表 v.s. 数组\n",
    "\n",
    "#### 基于数组序列的优点\n",
    "\n",
    "- 随机访问数组中任意元素的时间复杂度为O(1)\n",
    "- 基于数组进行一些常数的运算效率更高\n",
    "- 数组的存储结构更紧凑，更节省空间，且不会产生碎片\n",
    "\n",
    "#### 基于链表序列的优点\n",
    "\n",
    "- 在任意位置进行插入和删除元素的时间复杂度为O(1)\n",
    "- 链表不需要一开始就分配好储存空间，也不需要考虑空间的扩容和缩容问题"
   ]
  },
  {
   "cell_type": "markdown",
   "metadata": {
    "slideshow": {
     "slide_type": "slide"
    }
   },
   "source": [
    "# Any Questions?"
   ]
  },
  {
   "cell_type": "markdown",
   "metadata": {
    "slideshow": {
     "slide_type": "slide"
    }
   },
   "source": [
    "## 实践项目\n",
    "\n",
    "- 期中考试 -> 实践项目 (20%)\n",
    "- 以下是可以用来实践的课题，但更希望大家能提出自己的点子，实现自己的想法：\n",
    "    - 解析Verilog，DEF...\n",
    "    - 抽取EDA工具的log信息\n",
    "    - 分析PD项目中的数据\n",
    "    - IT监控，比如磁盘监控、机器监控、LSF任务的监控\n",
    "    - ......\n",
    "- 开源项目，每个人都能做出贡献（不仅仅限于代码的提交）"
   ]
  },
  {
   "cell_type": "markdown",
   "metadata": {
    "slideshow": {
     "slide_type": "subslide"
    }
   },
   "source": [
    "[程序员修炼之道](https://book.douban.com/subject/5387402/) P5 《石头汤》的故事\n",
    "\n",
    "![](img/7-8.jpg)"
   ]
  },
  {
   "cell_type": "markdown",
   "metadata": {
    "slideshow": {
     "slide_type": "slide"
    }
   },
   "source": [
    "## 课后作业 Assignment-05\n",
    "\n",
    "1) 课程中我们已经学习了环形链表，但在实际应用中，链表可能会存在非首尾相接的环形结构（如下图所示），请提供一种有效的算法来检测一个单向链表中是否包含环。\n",
    "\n",
    "![](img/7-5.png)"
   ]
  },
  {
   "cell_type": "markdown",
   "metadata": {
    "slideshow": {
     "slide_type": "slide"
    }
   },
   "source": [
    "2)反转一个单向链表，例如单向链表 4->3->2->1->0->None，反转后变成 0->1->2->3->4->None。"
   ]
  }
 ],
 "metadata": {
  "celltoolbar": "Slideshow",
  "kernelspec": {
   "display_name": "Python 3",
   "language": "python",
   "name": "python3"
  },
  "language_info": {
   "codemirror_mode": {
    "name": "ipython",
    "version": 3
   },
   "file_extension": ".py",
   "mimetype": "text/x-python",
   "name": "python",
   "nbconvert_exporter": "python",
   "pygments_lexer": "ipython3",
   "version": "3.6.5"
  }
 },
 "nbformat": 4,
 "nbformat_minor": 2
}

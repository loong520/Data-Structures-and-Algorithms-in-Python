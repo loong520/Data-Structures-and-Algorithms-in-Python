{
 "cells": [
  {
   "cell_type": "markdown",
   "metadata": {
    "slideshow": {
     "slide_type": "slide"
    }
   },
   "source": [
    "### <center>2018 Winter CS101.06</center>\n",
    "\n",
    "# <center>栈和队列</center>\n",
    "\n",
    "##### <center>by tanzhuxiaqiu@huawei.com</center>"
   ]
  },
  {
   "cell_type": "markdown",
   "metadata": {
    "slideshow": {
     "slide_type": "slide"
    }
   },
   "source": [
    "## 作业-03\n",
    "\n",
    "- 2/12 19:00PM\n",
    "- 简单讲解"
   ]
  },
  {
   "cell_type": "markdown",
   "metadata": {
    "slideshow": {
     "slide_type": "slide"
    }
   },
   "source": [
    "## 今日议程\n",
    "\n",
    "1. 栈\n",
    "2. 队列\n",
    "3. 双端队列"
   ]
  },
  {
   "cell_type": "markdown",
   "metadata": {
    "slideshow": {
     "slide_type": "slide"
    }
   },
   "source": [
    "## 栈\n",
    "\n",
    "遵循后进先出(LIFO)规则的对象集合。\n",
    "\n",
    "常见的实例：\n",
    "- 虚拟内存的栈空间\n",
    "- 编译器中处理运算\n",
    "- 浏览器的历史访问\n",
    "- 编辑器的撤销"
   ]
  },
  {
   "cell_type": "markdown",
   "metadata": {
    "slideshow": {
     "slide_type": "subslide"
    }
   },
   "source": [
    "![](img/6-1.png)"
   ]
  },
  {
   "cell_type": "markdown",
   "metadata": {
    "slideshow": {
     "slide_type": "slide"
    }
   },
   "source": [
    "### 栈的抽象数据类型（ADT）\n",
    "\n",
    "如果用S表示一个栈的实例，S必须支持两个基本操作：\n",
    "\n",
    "- S.push(e): 将一个元素e压入栈S的栈顶。\n",
    "- S.pop()：如果栈S中至少含有一个元素，从栈S的栈顶弹出一个元素并返回其值；如果栈S为空，则抛出异常。\n",
    "\n",
    "此外，为了方便操作，栈S还应支持：\n",
    "\n",
    "- S.peek()：返回栈顶的元素值，但并不弹出该元素；如果栈S为空，则抛出异常。\n",
    "- S.is_empty(): 判断栈S是否为空，如果为空就返回True；反之返回False。\n",
    "- len(S): 返回栈S中元素的个数。\n",
    "- iter(S): 返回一个Iterator。"
   ]
  },
  {
   "cell_type": "code",
   "execution_count": 1,
   "metadata": {
    "slideshow": {
     "slide_type": "slide"
    }
   },
   "outputs": [],
   "source": [
    "from abc import ABC, abstractmethod\n",
    "\n",
    "\n",
    "class AbstractStack(ABC):\n",
    "    \"\"\"Abstract Class for Stacks.\"\"\"\n",
    "    def __init__(self):\n",
    "        self._top = -1\n",
    "\n",
    "    def __len__(self):\n",
    "        return self._top + 1\n",
    "\n",
    "    def __repr__(self):\n",
    "        res = \"->\".join(map(str, self))\n",
    "        return 'Top->' + res\n",
    "\n",
    "    def is_empty(self):\n",
    "        return self._top == -1\n",
    "\n",
    "    @abstractmethod\n",
    "    def __iter__(self):\n",
    "        raise NotImplementedError\n",
    "\n",
    "    @abstractmethod\n",
    "    def push(self, e):\n",
    "        raise NotImplementedError\n",
    "\n",
    "    @abstractmethod\n",
    "    def pop(self):\n",
    "        raise NotImplementedError\n",
    "\n",
    "    @abstractmethod\n",
    "    def peek(self):\n",
    "        raise NotImplementedError\n"
   ]
  },
  {
   "cell_type": "markdown",
   "metadata": {
    "slideshow": {
     "slide_type": "slide"
    }
   },
   "source": [
    "### 基于Python的List实现栈\n",
    "\n",
    "|栈方法|对应List实现|\n",
    "|---|---|\n",
    "|S.push(e)|L.append(e)|\n",
    "|S.pop()|L.pop()|\n",
    "|S.peek()|L[-1]|\n",
    "|S.is_empty|len(L) == 0|\n",
    "|len(S)|len(L)|"
   ]
  },
  {
   "cell_type": "code",
   "execution_count": 2,
   "metadata": {
    "slideshow": {
     "slide_type": "slide"
    }
   },
   "outputs": [],
   "source": [
    "class ArrayStack(AbstractStack):\n",
    "    \"\"\"LIFO Stack implementation using a Python list as underlying storage.\n",
    "    \"\"\"\n",
    "\n",
    "    def __init__(self):\n",
    "        \"\"\"Create an empty stack.\"\"\"\n",
    "        super().__init__()\n",
    "        self._data = []\n",
    "\n",
    "    def __iter__(self):\n",
    "        p = self._top\n",
    "        while p >= 0:\n",
    "            yield self._data[p]\n",
    "            p -= 1\n",
    "\n",
    "    def push(self, e):\n",
    "        \"\"\"Add element e to the top of stack.\"\"\"\n",
    "        self._top += 1\n",
    "        self._data.append(e)\n",
    "\n",
    "    def pop(self):\n",
    "        \"\"\"Remove and return the element from the top of the stack.\n",
    "        Raise Empty exception if the stack is empty.\n",
    "        \"\"\"\n",
    "        if self.is_empty():\n",
    "            raise IndexError(\"Stack is empty\")\n",
    "        self._top -= 1\n",
    "        return self._data.pop()\n",
    "\n",
    "    def peek(self):\n",
    "        \"\"\"Return (not remove) the element at the top of the stack.\n",
    "        Raise Empty exception if the stack is empty.\n",
    "        \"\"\"\n",
    "        if self.is_empty():\n",
    "            raise IndexError(\"Stack is empty\")\n",
    "        return self._data[self._top]\n"
   ]
  },
  {
   "cell_type": "code",
   "execution_count": 3,
   "metadata": {
    "slideshow": {
     "slide_type": "subslide"
    }
   },
   "outputs": [
    {
     "data": {
      "text/plain": [
       "True"
      ]
     },
     "execution_count": 3,
     "metadata": {},
     "output_type": "execute_result"
    }
   ],
   "source": [
    "S = ArrayStack()\n",
    "S.is_empty()"
   ]
  },
  {
   "cell_type": "code",
   "execution_count": 4,
   "metadata": {
    "slideshow": {
     "slide_type": "fragment"
    }
   },
   "outputs": [
    {
     "data": {
      "text/plain": [
       "Top->{'k1': 'v1', 'k2': 'v2'}->a->3"
      ]
     },
     "execution_count": 4,
     "metadata": {},
     "output_type": "execute_result"
    }
   ],
   "source": [
    "S.push(3)\n",
    "S.push('a')\n",
    "S.push({'k1': 'v1', 'k2': 'v2'})\n",
    "S"
   ]
  },
  {
   "cell_type": "code",
   "execution_count": 5,
   "metadata": {
    "slideshow": {
     "slide_type": "fragment"
    }
   },
   "outputs": [
    {
     "data": {
      "text/plain": [
       "Top->a->3"
      ]
     },
     "execution_count": 5,
     "metadata": {},
     "output_type": "execute_result"
    }
   ],
   "source": [
    "S.pop()\n",
    "S"
   ]
  },
  {
   "cell_type": "code",
   "execution_count": 6,
   "metadata": {
    "slideshow": {
     "slide_type": "fragment"
    }
   },
   "outputs": [
    {
     "data": {
      "text/plain": [
       "2"
      ]
     },
     "execution_count": 6,
     "metadata": {},
     "output_type": "execute_result"
    }
   ],
   "source": [
    "len(S)"
   ]
  },
  {
   "cell_type": "code",
   "execution_count": 7,
   "metadata": {
    "slideshow": {
     "slide_type": "fragment"
    }
   },
   "outputs": [
    {
     "data": {
      "text/plain": [
       "'a'"
      ]
     },
     "execution_count": 7,
     "metadata": {},
     "output_type": "execute_result"
    }
   ],
   "source": [
    "S.peek()"
   ]
  },
  {
   "cell_type": "code",
   "execution_count": 8,
   "metadata": {
    "slideshow": {
     "slide_type": "fragment"
    }
   },
   "outputs": [
    {
     "data": {
      "text/plain": [
       "[3, 'a']"
      ]
     },
     "execution_count": 8,
     "metadata": {},
     "output_type": "execute_result"
    }
   ],
   "source": [
    "S._data"
   ]
  },
  {
   "cell_type": "markdown",
   "metadata": {
    "slideshow": {
     "slide_type": "slide"
    }
   },
   "source": [
    "### 基于List的栈的时间复杂度\n",
    "\n",
    "|操作|示例|时间复杂度|注释|\n",
    "|---|---|---|---|\n",
    "| Push | S.push(e) | O(1)* |均摊时间复杂度|\n",
    "| Pop | S.pop() | O(1)* |均摊时间复杂度|\n",
    "| Peek | S.peek() | O(1) | |\n",
    "| Is empty | S.is_empty() | O(1) | |\n",
    "| Length | len(S) | O(1) | |"
   ]
  },
  {
   "cell_type": "code",
   "execution_count": 9,
   "metadata": {
    "slideshow": {
     "slide_type": "slide"
    }
   },
   "outputs": [],
   "source": [
    "def delimiter_matched(expr):\n",
    "    \"\"\"Return True if all delimiters are properly match; False otherwise.\n",
    "    \n",
    "    >>> delimiter_matched('[(2+x)*(3+y)]')\n",
    "    True\n",
    "    >>> delimiter_matched('{[{(xbcd))]}')\n",
    "    False\n",
    "    \"\"\"\n",
    "    left, right = '({[', ')}]'\n",
    "    S = ArrayStack()\n",
    "\n",
    "    for c in expr:\n",
    "        if c in left:\n",
    "            S.push(c)\n",
    "        elif c in right:\n",
    "            if S.is_empty():\n",
    "                return False\n",
    "            if right.index(c) != left.index(S.pop()):\n",
    "                return False\n",
    "    return S.is_empty()"
   ]
  },
  {
   "cell_type": "code",
   "execution_count": 10,
   "metadata": {
    "slideshow": {
     "slide_type": "fragment"
    }
   },
   "outputs": [
    {
     "data": {
      "text/plain": [
       "TestResults(failed=0, attempted=2)"
      ]
     },
     "execution_count": 10,
     "metadata": {},
     "output_type": "execute_result"
    }
   ],
   "source": [
    "import doctest\n",
    "doctest.testmod()"
   ]
  },
  {
   "cell_type": "markdown",
   "metadata": {
    "slideshow": {
     "slide_type": "slide"
    }
   },
   "source": [
    "## 队列\n",
    "\n",
    "与栈相似，但队列是遵循先进先出(FIFO)规则的对象集合。\n",
    "\n",
    "- 常用于优化资源请求\n",
    "- 插入元素的一端为队列尾部\n",
    "- 删除元素的一端为队列头部\n"
   ]
  },
  {
   "cell_type": "markdown",
   "metadata": {
    "slideshow": {
     "slide_type": "fragment"
    }
   },
   "source": [
    "![](img/6-2.png)"
   ]
  },
  {
   "cell_type": "markdown",
   "metadata": {
    "slideshow": {
     "slide_type": "slide"
    }
   },
   "source": [
    "### 队列的抽象数据类型（ADT）\n",
    "\n",
    "如果用Q表示一个队列的实例，Q应该支持两个基本操作：\n",
    "\n",
    "- Q.enqueue(e): 在队列Q的尾部添加一个元素e。\n",
    "- Q.dequeue()：如果队列Q中至少含有一个元素，从队列Q的头部移除一个元素并返回其值；如果队列Q为空，则抛出异常。\n",
    "\n",
    "此外，为了方便操作，栈S还应支持：\n",
    "\n",
    "- Q.peek()：在不移除队列Q头部元素的情况下返回元素的值；如果队列Q为空，则抛出异常。\n",
    "- Q.is_empty(): 判断队列Q是否为空，如果为空就返回True；反之返回False。\n",
    "- len(Q): 返回队列Q中元素的个数。\n",
    "- iter(Q): 返回一个Iterator。"
   ]
  },
  {
   "cell_type": "code",
   "execution_count": 12,
   "metadata": {
    "slideshow": {
     "slide_type": "slide"
    }
   },
   "outputs": [],
   "source": [
    "from abc import ABC, abstractmethod\n",
    "\n",
    "\n",
    "class AbstractQueue(ABC):\n",
    "\n",
    "    def __init__(self):\n",
    "        self._size = 0\n",
    "\n",
    "    def __len__(self):\n",
    "        return self._size\n",
    "\n",
    "    def is_empty(self):\n",
    "        return self._size == 0\n",
    "\n",
    "    @abstractmethod\n",
    "    def enqueue(self, e):\n",
    "        raise NotImplementedError\n",
    "\n",
    "    @abstractmethod\n",
    "    def dequeue(self):\n",
    "        raise NotImplementedError\n",
    "\n",
    "    @abstractmethod\n",
    "    def peek(self):\n",
    "        raise NotImplementedError\n",
    "\n",
    "    @abstractmethod\n",
    "    def __iter__(self):\n",
    "        raise NotImplementedError\n"
   ]
  },
  {
   "cell_type": "markdown",
   "metadata": {
    "slideshow": {
     "slide_type": "slide"
    }
   },
   "source": [
    "### 基于Python的List实现队列\n",
    "\n",
    "#### 思考\n",
    "\n",
    "在实现栈时我们使用了一个标识位（指针）top来标示栈顶的元素位置，如果要实现一个队列需要几个标识位（指针）？还需要什么额外的算法逻辑吗？\n",
    "\n"
   ]
  },
  {
   "cell_type": "markdown",
   "metadata": {
    "slideshow": {
     "slide_type": "fragment"
    }
   },
   "source": [
    "#### 头尾都用标识位的线性队列\n",
    "\n",
    "- 在队列头部第一个元素处设置一个标识符（头指针）front，当完成出列操作dequeue后此标识符相应后移一位\n",
    "- 在队列尾部最后一个元素的后一位设置一个标识符（尾指针）rear，当完成入列操作enqueue后此标识符后移一位\n",
    "![](img/6-3.png)"
   ]
  },
  {
   "cell_type": "code",
   "execution_count": 13,
   "metadata": {
    "slideshow": {
     "slide_type": "slide"
    }
   },
   "outputs": [],
   "source": [
    "class ArrayQueue(AbstractQueue):\n",
    "    def __init__(self, cap=10):\n",
    "        super().__init__()\n",
    "        self._array = [None] * cap\n",
    "        self._front = 0\n",
    "        self._rear = 0\n",
    "\n",
    "    def __iter__(self):\n",
    "        p = self._front\n",
    "        while p <= self._rear:\n",
    "            yield self._array[p]\n",
    "            p += 1\n",
    "\n",
    "    def enqueue(self, e):\n",
    "        if self._rear == len(self._array):\n",
    "            self._expand()\n",
    "        self._array[self._rear] = e\n",
    "        self._rear += 1\n",
    "        self._size += 1\n",
    "\n",
    "    def _expand(self):\n",
    "        \"\"\"expands cap of the array.\n",
    "        Time Complexity: O(n).\n",
    "        \"\"\"\n",
    "        self._array += [None] * len(self._array)\n",
    "\n",
    "    def dequeue(self):\n",
    "        if self.is_empty():\n",
    "            raise IndexError(\"Queue is empty\")\n",
    "        res = self._array[self._front]\n",
    "        self._array[self._front] = None\n",
    "        self._front += 1\n",
    "        self._size -= 1\n",
    "        return res\n",
    "\n",
    "    def peek(self):\n",
    "        if self.is_empty():\n",
    "            raise IndexError(\"Queue is empty\")\n",
    "        return self._array[self._front]\n"
   ]
  },
  {
   "cell_type": "code",
   "execution_count": 14,
   "metadata": {
    "slideshow": {
     "slide_type": "slide"
    }
   },
   "outputs": [
    {
     "data": {
      "text/plain": [
       "[None,\n",
       " None,\n",
       " None,\n",
       " None,\n",
       " None,\n",
       " None,\n",
       " None,\n",
       " None,\n",
       " None,\n",
       " None,\n",
       " 10,\n",
       " 11,\n",
       " 12,\n",
       " 13,\n",
       " 14,\n",
       " 'a',\n",
       " 'b',\n",
       " None,\n",
       " None,\n",
       " None]"
      ]
     },
     "execution_count": 14,
     "metadata": {},
     "output_type": "execute_result"
    }
   ],
   "source": [
    "queue = ArrayQueue()\n",
    "for i in range(15):\n",
    "    queue.enqueue(i)\n",
    "\n",
    "for i in range(10):\n",
    "    queue.dequeue()\n",
    "    \n",
    "queue.enqueue('a')\n",
    "queue.enqueue('b')\n",
    "\n",
    "queue._array"
   ]
  },
  {
   "cell_type": "markdown",
   "metadata": {
    "slideshow": {
     "slide_type": "subslide"
    }
   },
   "source": [
    "#### 线性队列的优缺点\n",
    "\n",
    "- 双标识符代码便于理解，但是底层的List在dequeue后空间会造成浪费\n",
    "- 如何更合理的利用空间？gc回收？利用List自带的pop(0)来实现dequeue？"
   ]
  },
  {
   "cell_type": "markdown",
   "metadata": {
    "slideshow": {
     "slide_type": "slide"
    }
   },
   "source": [
    "#### 循环队列\n",
    "\n",
    "- 将ArrayQueue的首尾相接形成闭环\n",
    "- 在enqueue和dequeue操作后通过取模来定位标识符\n",
    "\n",
    "![](img/6-4.png)"
   ]
  },
  {
   "cell_type": "markdown",
   "metadata": {
    "slideshow": {
     "slide_type": "slide"
    }
   },
   "source": [
    "#### 循环队列的算法逻辑\n",
    "\n",
    "1. 初始化循环队列时，根据输入的capacity参数设置底层的List大小，初始化头指针front和尾指针rear；\n",
    "2. 入列：\n",
    "    - 如果队列已满（尾指针已处于最后一个空位时），抛出异常\n",
    "    - 如果队列还有空位就在尾指针除插入元素，并将尾指针后移一位\n",
    "3. 出列：\n",
    "    - 如果队列为空（头尾指针相遇时），抛出异常\n",
    "    - 如果队列中还有元素则将头指针标记的元素删除且返回，并将头指针后移一位\n",
    "4. 元素个数：\n",
    "    - rear >= front, size = rear - front\n",
    "    - front > rear, size = capacity - (front - rear)"
   ]
  },
  {
   "cell_type": "code",
   "execution_count": 16,
   "metadata": {
    "slideshow": {
     "slide_type": "slide"
    }
   },
   "outputs": [],
   "source": [
    "class CircularQueue:\n",
    "    def __init__(self, cap=10):\n",
    "        self._array = [None] * cap\n",
    "        self._front = 0\n",
    "        self._rear = 0\n",
    "\n",
    "    def __len__(self):\n",
    "        if self._rear >= self._front:\n",
    "            return self._rear - self._front\n",
    "        return len(self._array) - (self._front - self._rear)\n",
    "\n",
    "    def enqueue(self, e):\n",
    "#         if len(self) == len(self._array) - 1:\n",
    "        if (self._rear + 1) % len(self._array) == self._front:\n",
    "            raise IndexError(\"Queue is full\")\n",
    "        self._array[self._rear] = e\n",
    "        self._rear = (self._rear + 1) % len(self._array)\n",
    "\n",
    "    def dequeue(self):\n",
    "#         if len(self) == 0:\n",
    "        if self._rear == self._front:\n",
    "            raise IndexError(\"Queue is empty\")\n",
    "        res = self._array[self._front]\n",
    "        self._array[self._front] = None\n",
    "        self._front = (self._front + 1) % len(self._array)\n",
    "        return res"
   ]
  },
  {
   "cell_type": "code",
   "execution_count": 19,
   "metadata": {
    "slideshow": {
     "slide_type": "slide"
    }
   },
   "outputs": [
    {
     "data": {
      "text/plain": [
       "[0, 1, 2, 3, 4, 5, 6, 7, 8, None]"
      ]
     },
     "execution_count": 19,
     "metadata": {},
     "output_type": "execute_result"
    }
   ],
   "source": [
    "queue = CircularQueue()\n",
    "for i in range(9):\n",
    "    queue.enqueue(i)\n",
    "queue._array"
   ]
  },
  {
   "cell_type": "code",
   "execution_count": 20,
   "metadata": {
    "slideshow": {
     "slide_type": "fragment"
    }
   },
   "outputs": [
    {
     "data": {
      "text/plain": [
       "['b', None, 2, 3, 4, 5, 6, 7, 8, 'a']"
      ]
     },
     "execution_count": 20,
     "metadata": {},
     "output_type": "execute_result"
    }
   ],
   "source": [
    "queue.dequeue()\n",
    "queue.enqueue('a')\n",
    "queue.dequeue()\n",
    "queue.enqueue('b')\n",
    "queue._array"
   ]
  },
  {
   "cell_type": "markdown",
   "metadata": {
    "slideshow": {
     "slide_type": "slide"
    }
   },
   "source": [
    "#### 双标识符环形队列的优缺点：\n",
    "\n",
    "- 可以循环利用已使用过的空间；\n",
    "- 元素个数的计算比较复杂，而且尾指针标识的空间无法存储元素。\n",
    "- 有没有更优化的方式实现环形队列？并让队列支持动态的扩容和缩容？\n"
   ]
  },
  {
   "cell_type": "code",
   "execution_count": 21,
   "metadata": {
    "slideshow": {
     "slide_type": "slide"
    }
   },
   "outputs": [],
   "source": [
    "class CircularQueue(AbstractQueue):\n",
    "    \"\"\"Circular Queue implementation using a Python list as underlying storage.\n",
    "    \"\"\"\n",
    "    def __init__(self, cap=10):\n",
    "        super().__init__()\n",
    "        self._array = [None] * cap\n",
    "        self._front = 0\n",
    "\n",
    "    def __iter__(self):\n",
    "        p = self._front\n",
    "        while p != (self._front + self._size) % len(self._array):\n",
    "            yield self._array[p]\n",
    "            p = (p + 1) % len(self._array)\n",
    "\n",
    "    def enqueue(self, e):\n",
    "        if self._size == len(self._array):\n",
    "            self._resize(2 * len(self._array))\n",
    "        rear = (self._front + self._size) % len(self._array)\n",
    "        self._array[rear] = e\n",
    "        self._size += 1\n",
    "\n",
    "    def _resize(self, cap):\n",
    "        tmp = self._array\n",
    "        self._array = [None] * cap\n",
    "        p = self._front\n",
    "        for i in range(self._size):\n",
    "            self._array[i] = tmp[p]\n",
    "            p = (p + 1) % len(tmp)\n",
    "        self._front = 0\n",
    "\n",
    "    def dequeue(self):\n",
    "        if self.is_empty():\n",
    "            raise IndexError(\"Queue is empty\")\n",
    "        res = self._array[self._front]\n",
    "        self._array[self._front] = None\n",
    "        self._front = (self._front + 1) % len(self._array)\n",
    "        self._size -= 1\n",
    "        if 0 < self._size < len(self._array) // 4:\n",
    "            self._resize(len(self._array) // 2)\n",
    "        return res\n",
    "\n",
    "    def peek(self):\n",
    "        if self.is_empty():\n",
    "            raise IndexError(\"Queue is empty\")\n",
    "        return self._array[self._front]"
   ]
  },
  {
   "cell_type": "code",
   "execution_count": 22,
   "metadata": {
    "slideshow": {
     "slide_type": "subslide"
    }
   },
   "outputs": [
    {
     "name": "stdout",
     "output_type": "stream",
     "text": [
      "[0, 1, 2, 3, 4, 5, 6, 7, 8, 9]\n"
     ]
    }
   ],
   "source": [
    "queue = CircularQueue()\n",
    "for i in range(10):\n",
    "    queue.enqueue(i)\n",
    "print(queue._array)"
   ]
  },
  {
   "cell_type": "code",
   "execution_count": 23,
   "metadata": {
    "slideshow": {
     "slide_type": "fragment"
    }
   },
   "outputs": [
    {
     "name": "stdout",
     "output_type": "stream",
     "text": [
      "['a', 'b', 2, 3, 4, 5, 6, 7, 8, 9]\n"
     ]
    }
   ],
   "source": [
    "queue.dequeue()\n",
    "queue.enqueue('a')\n",
    "queue.dequeue()\n",
    "queue.enqueue('b')\n",
    "print(queue._array)"
   ]
  },
  {
   "cell_type": "code",
   "execution_count": 24,
   "metadata": {
    "slideshow": {
     "slide_type": "fragment"
    }
   },
   "outputs": [
    {
     "name": "stdout",
     "output_type": "stream",
     "text": [
      "[2, 3, 4, 5, 6, 7, 8, 9, 'a', 'b', 'c', None, None, None, None, None, None, None, None, None]\n"
     ]
    }
   ],
   "source": [
    "queue.enqueue('c')\n",
    "print(queue._array)"
   ]
  },
  {
   "cell_type": "markdown",
   "metadata": {
    "slideshow": {
     "slide_type": "slide"
    }
   },
   "source": [
    "### 基于List的环形队列的时间复杂度\n",
    "\n",
    "|操作|示例|时间复杂度|注释|\n",
    "|---|---|---|---|\n",
    "| Enqueue | Q.enqueue(e) | O(1)* |均摊时间复杂度|\n",
    "| Dequeue | Q.dequeue() | O(1)* |均摊时间复杂度|\n",
    "| Peek | S.peek() | O(1) | |\n",
    "| Is empty | S.is_empty() | O(1) | |\n",
    "| Length | len(S) | O(1) | |"
   ]
  },
  {
   "cell_type": "markdown",
   "metadata": {
    "slideshow": {
     "slide_type": "slide"
    }
   },
   "source": [
    "## 双端队列\n",
    "\n",
    "Double-ended queue(deque): 双向的FIFO队列，支持在头部和尾部都可以插入和删除元素。\n",
    "\n",
    "![](img/6-5.png)"
   ]
  },
  {
   "cell_type": "markdown",
   "metadata": {
    "slideshow": {
     "slide_type": "slide"
    }
   },
   "source": [
    "### 双端队列的抽象数据类型（ADT）\n",
    "\n",
    "如果用D表示一个双端队列的实例，D应该支持四个基本操作：\n",
    "\n",
    "- D.add_first(e): 在双端队列Q的头部添加一个元素e。\n",
    "- D.add_last(e): 在双端队列Q的尾部添加一个元素e。\n",
    "- D.del_first()：如果双端队列D中至少含有一个元素，从队列Q的头部移除一个元素并返回其值；如果队列Q为空，则抛出异常。\n",
    "- D.del_last()：如果双端队列D中至少含有一个元素，从队列Q的尾部移除一个元素并返回其值；如果队列Q为空，则抛出异常。\n",
    "\n",
    "此外，为了方便操作，栈S还应支持：\n",
    "\n",
    "- D.first()：在不移除双端队列D头部元素的情况下返回元素的值；如果双端队列D为空，则抛出异常。\n",
    "- D.last()：在不移除双端队列D尾部元素的情况下返回元素的值；如果双端队列D为空，则抛出异常。\n",
    "- D.is_empty(): 判断双端队列D是否为空，如果为空就返回True；反之返回False。\n",
    "- len(D): 返回双端队列D中元素的个数。\n",
    "- iter(Q): 返回一个Iterator。"
   ]
  },
  {
   "cell_type": "code",
   "execution_count": 25,
   "metadata": {
    "slideshow": {
     "slide_type": "slide"
    }
   },
   "outputs": [],
   "source": [
    "from abc import ABC, abstractmethod\n",
    "\n",
    "\n",
    "class AbstractDeque(ABC):\n",
    "\n",
    "    def __init__(self):\n",
    "        self._size = 0\n",
    "\n",
    "    def __len__(self):\n",
    "        return self._size\n",
    "\n",
    "    def is_empty(self):\n",
    "        return self._size == 0\n",
    "\n",
    "    @abstractmethod\n",
    "    def __iter__(self):\n",
    "        raise NotImplementedError    \n",
    "    \n",
    "    @abstractmethod\n",
    "    def add_first(self, e):\n",
    "        raise NotImplementedError\n",
    "\n",
    "    @abstractmethod\n",
    "    def add_last(self, e):\n",
    "        raise NotImplementedError\n",
    "\n",
    "    @abstractmethod\n",
    "    def del_first(self):\n",
    "        raise NotImplementedError\n",
    "\n",
    "    @abstractmethod\n",
    "    def del_last(self):\n",
    "        raise NotImplementedError\n",
    "\n",
    "    @abstractmethod\n",
    "    def first(self):\n",
    "        raise NotImplementedError\n",
    "\n",
    "    @abstractmethod\n",
    "    def last(self):\n",
    "        raise NotImplementedError\n"
   ]
  },
  {
   "cell_type": "code",
   "execution_count": 43,
   "metadata": {
    "slideshow": {
     "slide_type": "slide"
    }
   },
   "outputs": [],
   "source": [
    "class ArrayDeque(AbstractDeque):\n",
    "    def __init__(self, data=[]):\n",
    "        super().__init__()\n",
    "        self._array = data\n",
    "        self._size = len(data)\n",
    "        \n",
    "    def __iter__(self):\n",
    "        return (x for x in self._array)\n",
    "\n",
    "    def add_first(self, e):\n",
    "        self._array.insert(0, e)\n",
    "        self._size += 1\n",
    "\n",
    "    def add_last(self, e):\n",
    "        self._array.append(e)\n",
    "        self._size += 1\n",
    "\n",
    "    def del_first(self):\n",
    "        if self.is_empty():\n",
    "            raise IndexError(\"Deque is empty\")\n",
    "        self._array.pop(0)\n",
    "        self._size -= 1\n",
    "\n",
    "    def del_last(self):\n",
    "        if self.is_empty():\n",
    "            raise IndexError(\"Deque is empty\")\n",
    "        self._array.pop()\n",
    "        self._size -= 1\n",
    "\n",
    "    def first(self):\n",
    "        if self.is_empty():\n",
    "            raise IndexError(\"Deque is empty\")\n",
    "        return self._array[0]\n",
    "\n",
    "    def last(self):\n",
    "        if self.is_empty():\n",
    "            raise IndexError(\"Deque is empty\")\n",
    "        return self._array[-1]\n"
   ]
  },
  {
   "cell_type": "code",
   "execution_count": 38,
   "metadata": {
    "slideshow": {
     "slide_type": "subslide"
    }
   },
   "outputs": [
    {
     "data": {
      "text/plain": [
       "[0, 2, 4]"
      ]
     },
     "execution_count": 38,
     "metadata": {},
     "output_type": "execute_result"
    }
   ],
   "source": [
    "l1 = [1, 2, 3]\n",
    "deque1 = ArrayDeque(l1)\n",
    "deque1.del_first()\n",
    "deque1.del_last()\n",
    "deque1.add_first(0)\n",
    "deque1.add_last(4)\n",
    "deque1._array"
   ]
  },
  {
   "cell_type": "markdown",
   "metadata": {
    "slideshow": {
     "slide_type": "slide"
    }
   },
   "source": [
    "上面的ArrayDeque在构造时有个bug大家发现了吗？这个bug会导致什么问题？如何正确的书写？"
   ]
  },
  {
   "cell_type": "code",
   "execution_count": 44,
   "metadata": {
    "slideshow": {
     "slide_type": "fragment"
    }
   },
   "outputs": [
    {
     "data": {
      "text/plain": [
       "[0, 2, 4]"
      ]
     },
     "execution_count": 44,
     "metadata": {},
     "output_type": "execute_result"
    }
   ],
   "source": [
    "l1"
   ]
  },
  {
   "cell_type": "code",
   "execution_count": 45,
   "metadata": {
    "slideshow": {
     "slide_type": "fragment"
    }
   },
   "outputs": [
    {
     "data": {
      "text/plain": [
       "['a', 'b']"
      ]
     },
     "execution_count": 45,
     "metadata": {},
     "output_type": "execute_result"
    }
   ],
   "source": [
    "deque2 = ArrayDeque()\n",
    "deque2.add_first('a')\n",
    "deque2.add_last('b')\n",
    "deque2._array"
   ]
  },
  {
   "cell_type": "code",
   "execution_count": 46,
   "metadata": {
    "slideshow": {
     "slide_type": "fragment"
    }
   },
   "outputs": [
    {
     "data": {
      "text/plain": [
       "['a', 'b']"
      ]
     },
     "execution_count": 46,
     "metadata": {},
     "output_type": "execute_result"
    }
   ],
   "source": [
    "deque3 = ArrayDeque()\n",
    "deque3._array"
   ]
  },
  {
   "cell_type": "code",
   "execution_count": 47,
   "metadata": {
    "slideshow": {
     "slide_type": "fragment"
    }
   },
   "outputs": [
    {
     "data": {
      "text/plain": [
       "['What', 'a', 'b', 'TF']"
      ]
     },
     "execution_count": 47,
     "metadata": {},
     "output_type": "execute_result"
    }
   ],
   "source": [
    "deque3.add_first('What')\n",
    "deque3.add_last('TF')\n",
    "deque2._array"
   ]
  },
  {
   "cell_type": "code",
   "execution_count": 48,
   "metadata": {
    "slideshow": {
     "slide_type": "fragment"
    }
   },
   "outputs": [
    {
     "data": {
      "text/plain": [
       "True"
      ]
     },
     "execution_count": 48,
     "metadata": {},
     "output_type": "execute_result"
    }
   ],
   "source": [
    "deque2._array is deque3._array"
   ]
  },
  {
   "cell_type": "markdown",
   "metadata": {
    "slideshow": {
     "slide_type": "subslide"
    }
   },
   "source": [
    "注意：在Python中如果使用mutable类型作为函数参数时，默认值要使用None！\n",
    "\n",
    "正确的书写：\n",
    "\n",
    "```python\n",
    "def __init__(self, data=None):\n",
    "    super().__init__()\n",
    "    if data is None:\n",
    "        self._array = []\n",
    "    else:\n",
    "        self._array = list(data)\n",
    "    self._size = len(self._array)\n",
    "```"
   ]
  },
  {
   "cell_type": "markdown",
   "metadata": {
    "slideshow": {
     "slide_type": "slide"
    }
   },
   "source": [
    "#### 循环双端队列（Circular Deque)\n",
    "\n",
    "- 与Circular Queue类似\n",
    "- 课后作业"
   ]
  },
  {
   "cell_type": "markdown",
   "metadata": {
    "slideshow": {
     "slide_type": "slide"
    }
   },
   "source": [
    "### collections.deque\n",
    "\n",
    "[Python3官方文档](https://docs.python.org/3/library/collections.html#collections.deque)\n",
    "\n",
    "> Deques are a generalization of stacks and queues (the name is pronounced “deck” and is short for “double-ended queue”). Deques support thread-safe, memory efficient appends and pops from either side of the deque with approximately the same O(1) performance in either direction."
   ]
  },
  {
   "cell_type": "code",
   "execution_count": 49,
   "metadata": {
    "slideshow": {
     "slide_type": "slide"
    }
   },
   "outputs": [
    {
     "name": "stdout",
     "output_type": "stream",
     "text": [
      "Completed deque/append in 0.01 seconds: 7943952.5 ops/sec\n",
      "Completed deque/appendleft in 0.01 seconds: 8778343.2 ops/sec\n",
      "Completed deque/pop in 0.01 seconds: 8556135.9 ops/sec\n",
      "Completed deque/popleft in 0.02 seconds: 6475767.1 ops/sec\n",
      "Completed ArrayDeque/append in 0.06 seconds: 1756797.4 ops/sec\n",
      "Completed ArrayDeque/appendleft in 12.29 seconds: 8137.6 ops/sec\n",
      "Completed ArrayDeque/pop in 0.08 seconds: 1323908.8 ops/sec\n",
      "Completed ArrayDeque/popleft in 2.78 seconds: 35987.7 ops/sec\n"
     ]
    }
   ],
   "source": [
    "import time\n",
    "from collections import deque\n",
    "\n",
    "num = 100_000\n",
    "\n",
    "def append(c):\n",
    "    if isinstance(c, deque):\n",
    "        for i in range(num):\n",
    "            c.append(i)\n",
    "    else:\n",
    "        for i in range(num):\n",
    "            c.add_last(i)\n",
    "            \n",
    "def appendleft(c):\n",
    "    if isinstance(c, deque):\n",
    "        for i in range(num):\n",
    "            c.appendleft(i)\n",
    "    else:\n",
    "        for i in range(num):\n",
    "            c.add_first(i)\n",
    "def pop(c):\n",
    "    if isinstance(c, deque):\n",
    "        for i in range(num):\n",
    "            c.pop()\n",
    "    else:\n",
    "        for i in range(num):\n",
    "            c.del_last()\n",
    "\n",
    "def popleft(c):\n",
    "    if isinstance(c, deque):\n",
    "        for i in range(num):\n",
    "            c.popleft()\n",
    "    else:\n",
    "        for i in range(num):\n",
    "            c.del_first()\n",
    "\n",
    "for container in [deque, ArrayDeque]:\n",
    "    for operation in [append, appendleft, pop, popleft]:\n",
    "        c = container([x for x in range(num)])\n",
    "        start = time.perf_counter()\n",
    "        operation(c)\n",
    "        elapsed = time.perf_counter() - start\n",
    "        print(\"Completed %s/%s in %.2f seconds: %.1f ops/sec\" % (container.__name__, operation.__name__, elapsed, num / elapsed))"
   ]
  },
  {
   "cell_type": "code",
   "execution_count": 50,
   "metadata": {
    "slideshow": {
     "slide_type": "slide"
    }
   },
   "outputs": [
    {
     "name": "stdout",
     "output_type": "stream",
     "text": [
      "False\n",
      "True\n"
     ]
    }
   ],
   "source": [
    "from collections import deque\n",
    "\n",
    "def palchecker(aString):\n",
    "    chardeque = deque()\n",
    "\n",
    "    for ch in aString:\n",
    "        chardeque.append(ch)\n",
    "\n",
    "    stillEqual = True\n",
    "    while len(chardeque) > 1 and stillEqual:\n",
    "        first = chardeque.popleft()\n",
    "        last = chardeque.pop()\n",
    "        if first != last:\n",
    "            stillEqual = False\n",
    "\n",
    "    return stillEqual\n",
    "\n",
    "print(palchecker(\"lsdkjfskf\"))\n",
    "print(palchecker(\"radar\"))"
   ]
  },
  {
   "cell_type": "markdown",
   "metadata": {
    "slideshow": {
     "slide_type": "slide"
    }
   },
   "source": [
    "- collections.deque底层使用了双向链表，所以在头尾插入和删除数据的时间复杂度可以达到O(1)。\n",
    "- 如果需要操作中间索引的数据，建议使用List。"
   ]
  },
  {
   "cell_type": "markdown",
   "metadata": {
    "slideshow": {
     "slide_type": "slide"
    }
   },
   "source": [
    "# Any Questions?"
   ]
  },
  {
   "cell_type": "markdown",
   "metadata": {
    "slideshow": {
     "slide_type": "slide"
    }
   },
   "source": [
    "## 实践项目\n",
    "\n",
    "- 期中考试还是实践项目？\n",
    "- 如何选择实践课题？\n",
    "- 如何组织项目的开发？"
   ]
  },
  {
   "cell_type": "markdown",
   "metadata": {
    "slideshow": {
     "slide_type": "subslide"
    }
   },
   "source": [
    "- 期中考试 -> 实践项目 (20%)\n",
    "- 以下是可以用来实践的课题，但更希望大家能提出自己的点子，实现自己的想法：\n",
    "    - 解析Verilog，DEF...\n",
    "    - 抽取EDA工具的log信息\n",
    "    - 分析PD项目中的数据\n",
    "    - IT监控，比如磁盘监控、机器监控、LSF任务的监控\n",
    "    - ......\n",
    "- 开源项目，每个人都能做出贡献（不仅仅限于代码的提交）"
   ]
  },
  {
   "cell_type": "markdown",
   "metadata": {
    "slideshow": {
     "slide_type": "slide"
    }
   },
   "source": [
    "## 课后作业 Assignment-04\n",
    "\n",
    "1) 已知有两个序列pushed和popped分别表示了对栈的push和pop的元素顺序，用Python实现一个函数validateStackSequences(pushed, popped):确定这个两个对栈的操作序列能否可以在一个空栈上操作成功。\n",
    "\n",
    "```python\n",
    "def validateStackSequences(self, pushed, popped):\n",
    "    \"\"\"Return True if and only if this sequence of pushed and popped operations can been operated on an empty stack successfully.\n",
    "    :type pushed: List[int]\n",
    "    :type popped: List[int]\n",
    "    :rtype: bool\n",
    "    \"\"\"\n",
    "    pass\n",
    "```\n",
    "\n",
    "\n",
    ">例子1：  \n",
    ">输入: pushed = [1, 2, 3, 4, 5], popped = [4, 5, 3, 2, 1]  \n",
    ">输出: True  \n",
    ">解释: 可以按照以下顺利对一个空栈进行操作 —— push(1), push(2), push(3), push(4), pop() -> 4,\n",
    "push(5), pop() -> 5, pop() -> 3, pop() -> 2, pop() -> 1\n",
    "\n",
    ">例子2:  \n",
    "输入: pushed = [1, 2, 3, 4, 5], popped = [4, 3, 5, 1, 2]  \n",
    "输出: False  \n",
    "解释: 在popped指定的操作顺序下，元素1不能先于元素2执行弹出操作。\n",
    "\n",
    "注：\n",
    "- 0 <= len(pushed) == len(popped) <= 1000\n",
    "- 0 <= pushed[i], popped[i] < 1000\n",
    "- popped序列可以看做是pushed序列的一个重排列，\n",
    "- pushed序列中的值不重复，popped序列中的值也不重复。"
   ]
  },
  {
   "cell_type": "markdown",
   "metadata": {
    "slideshow": {
     "slide_type": "slide"
    }
   },
   "source": [
    "2) 用Python实现一个算法，该算法可以找出一个序列中每个元素后续出现的第一个比它大的元素，并记录这个比它大的元素的索引。如果在右边找不到比此元素更大的值则在输出的相对应位置上记录-1。\n",
    "\n",
    "```python\n",
    "def findRightFirstLargeNum(l):\n",
    "    \"\"\"\n",
    "    :type l: List[int]\n",
    "    :rtype: List[int]\n",
    "    \"\"\"\n",
    "```\n",
    "\n",
    ">例子1：  \n",
    "输入：[2, 6, 0, 1, 7, 3, 5, 8, 4, 9]  \n",
    "输出：[1, 4, 3, 4, 7, 6, 7, 9, 9, -1]  \n",
    "解释：对于输入中的第一个元素“2”来说，其右边第一个比它大的数是“6”，所以输出的结果中第一个元素应该记录“6”的索引就是“1”；对于输入中第二个元素“6”来说，其右边第一个比它大的数是“7”，所以输出结果中第二个元素应该记录“7”所在的索引是“4”；依次类推。。。\n",
    "\n",
    ">例子2:  \n",
    "输入：[7, 6, 3, 5, 8, 1, 9, 4, 0, 2]  \n",
    "输出：[4, 4, 3, 4, 6, 6, -1, -1, 9, -1] "
   ]
  },
  {
   "cell_type": "markdown",
   "metadata": {
    "slideshow": {
     "slide_type": "slide"
    }
   },
   "source": [
    "3）参考课件中Circular Queue环形队列的代码，自己实现一个Circular Deque环形双端队列。\n",
    "注：可以不必继承课件中的Deque ADT，而直接实现Circular deque，但是必须包括以下的基本功能，\n",
    "\n",
    "- add_first(e): 如果deque还有空位，就在队列的头部插入一个新元素e。\n",
    "- add_last(e): 如果deque还有空位，就在队列的尾部插入一个新元素e。\n",
    "- del_first(): 如果deque不为空，就删除队列头部的第一个元素。\n",
    "- del_last(): 如果deque不为空，就删除队列尾部的第一个元素。\n",
    "- first(): 如果deque不为空，则返回其头部的第一个元素的值，但并不删除此元素。\n",
    "- last(): 如果deque不为空，则返回其尾部的第一个元素的值，但并不删除此元素。"
   ]
  }
 ],
 "metadata": {
  "celltoolbar": "Slideshow",
  "kernelspec": {
   "display_name": "Python 3",
   "language": "python",
   "name": "python3"
  },
  "language_info": {
   "codemirror_mode": {
    "name": "ipython",
    "version": 3
   },
   "file_extension": ".py",
   "mimetype": "text/x-python",
   "name": "python",
   "nbconvert_exporter": "python",
   "pygments_lexer": "ipython3",
   "version": "3.6.5"
  }
 },
 "nbformat": 4,
 "nbformat_minor": 2
}

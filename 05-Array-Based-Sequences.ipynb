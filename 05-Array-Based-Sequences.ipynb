{
 "cells": [
  {
   "cell_type": "markdown",
   "metadata": {
    "slideshow": {
     "slide_type": "slide"
    }
   },
   "source": [
    "### <center>2018 Winter CS101.05</center>\n",
    "\n",
    "# <center>基于数组的序列</center>\n",
    "\n",
    "##### <center>by tanzhuxiaqiu@huawei.com</center>"
   ]
  },
  {
   "cell_type": "markdown",
   "metadata": {
    "slideshow": {
     "slide_type": "slide"
    }
   },
   "source": [
    "## 作业-02\n",
    "\n",
    "- 1/22 19:00PM\n",
    "- 简单讲解"
   ]
  },
  {
   "cell_type": "markdown",
   "metadata": {
    "slideshow": {
     "slide_type": "slide"
    }
   },
   "source": [
    "## 今日议程\n",
    "\n",
    "1. Python的序列类型\n",
    "2. 底层数组结构\n",
    "3. 动态数组和摊销\n",
    "4. Python序列类型的效率\n",
    "5. 多维数组"
   ]
  },
  {
   "cell_type": "markdown",
   "metadata": {
    "slideshow": {
     "slide_type": "slide"
    }
   },
   "source": [
    "## Python的序列类型\n",
    "\n",
    "Python内置了各种“序列”类，这些类底层都使用了类似数组的结构，它们都支持下标访问，如seq[k]：\n",
    "\n",
    "- 列表(list)\n",
    "- 元祖(tuple)\n",
    "- 字符串(str)\n",
    "\n",
    "\n"
   ]
  },
  {
   "cell_type": "markdown",
   "metadata": {
    "slideshow": {
     "slide_type": "fragment"
    }
   },
   "source": [
    "本课程重点介绍序列的：\n",
    "\n",
    "- 行为\n",
    "- 实现细节\n",
    "- 效率分析"
   ]
  },
  {
   "cell_type": "markdown",
   "metadata": {
    "slideshow": {
     "slide_type": "slide"
    }
   },
   "source": [
    "## 底层数组结构\n",
    "\n",
    "- 1byte = 8bit\n",
    "- RAM(Ramdom Access Memory)\n",
    "    - 认为存储器的任一单个字节被存储或检索的运行时间为O(1)\n",
    "- 内存地址\n",
    "- 广义上的数组结构：利用计算机储存器内的一块连续的存储空间，来存储一组具有相同类型的数据\n",
    "    - 线性结构\n",
    "    - 随机访问"
   ]
  },
  {
   "cell_type": "markdown",
   "metadata": {
    "slideshow": {
     "slide_type": "fragment"
    }
   },
   "source": [
    "![](./img/5-2.png)"
   ]
  },
  {
   "cell_type": "markdown",
   "metadata": {
    "slideshow": {
     "slide_type": "fragment"
    }
   },
   "source": [
    "数组根据下标随机访问的寻址公式：\n",
    "\n",
    "> a[i]_address = base_address + i * data_type_size"
   ]
  },
  {
   "cell_type": "markdown",
   "metadata": {
    "slideshow": {
     "slide_type": "slide"
    }
   },
   "source": [
    "### Python中的引用数组\n",
    "\n",
    "Python内置的**list**和**tuple**类型底层使用内存地址来存储对象的引用\n",
    "\n",
    "![](./img/5-3.png)\n"
   ]
  },
  {
   "cell_type": "code",
   "execution_count": 1,
   "metadata": {
    "slideshow": {
     "slide_type": "slide"
    }
   },
   "outputs": [],
   "source": [
    "primes = [2, 3, 5, 7, 11, 13, 17, 19]\n",
    "temp = primes[3:6]"
   ]
  },
  {
   "cell_type": "markdown",
   "metadata": {
    "slideshow": {
     "slide_type": "fragment"
    }
   },
   "source": [
    "![](./img/5-4.png)"
   ]
  },
  {
   "cell_type": "code",
   "execution_count": 2,
   "metadata": {
    "slideshow": {
     "slide_type": "fragment"
    }
   },
   "outputs": [
    {
     "name": "stdout",
     "output_type": "stream",
     "text": [
      "[7, 11, 15]\n",
      "[2, 3, 5, 7, 11, 13, 17, 19]\n"
     ]
    }
   ],
   "source": [
    "temp[2] = 15\n",
    "print(temp)\n",
    "print(primes)"
   ]
  },
  {
   "cell_type": "markdown",
   "metadata": {
    "slideshow": {
     "slide_type": "fragment"
    }
   },
   "source": [
    "![](./img/5-5.png)"
   ]
  },
  {
   "cell_type": "code",
   "execution_count": 3,
   "metadata": {
    "slideshow": {
     "slide_type": "subslide"
    }
   },
   "outputs": [
    {
     "data": {
      "text/plain": [
       "[0, 0, 0, 0, 0, 0, 0, 0]"
      ]
     },
     "execution_count": 3,
     "metadata": {},
     "output_type": "execute_result"
    }
   ],
   "source": [
    "counters = [0] * 8\n",
    "counters"
   ]
  },
  {
   "cell_type": "markdown",
   "metadata": {
    "slideshow": {
     "slide_type": "fragment"
    }
   },
   "source": [
    "![](./img/5-6.png)"
   ]
  },
  {
   "cell_type": "code",
   "execution_count": 4,
   "metadata": {
    "slideshow": {
     "slide_type": "fragment"
    }
   },
   "outputs": [
    {
     "data": {
      "text/plain": [
       "[0, 0, 1, 0, 0, 0, 0, 0]"
      ]
     },
     "execution_count": 4,
     "metadata": {},
     "output_type": "execute_result"
    }
   ],
   "source": [
    "counters[2] += 1\n",
    "counters"
   ]
  },
  {
   "cell_type": "markdown",
   "metadata": {
    "slideshow": {
     "slide_type": "fragment"
    }
   },
   "source": [
    "![](./img/5-7.png)"
   ]
  },
  {
   "cell_type": "code",
   "execution_count": 5,
   "metadata": {
    "slideshow": {
     "slide_type": "fragment"
    }
   },
   "outputs": [
    {
     "name": "stdout",
     "output_type": "stream",
     "text": [
      "1381395488\n",
      "1381395488\n",
      "1381395520\n",
      "1381395488\n",
      "1381395488\n",
      "1381395488\n",
      "1381395488\n",
      "1381395488\n"
     ]
    }
   ],
   "source": [
    "for i in range(len(counters)):\n",
    "    print(id(counters[i]))"
   ]
  },
  {
   "cell_type": "code",
   "execution_count": 6,
   "metadata": {
    "slideshow": {
     "slide_type": "subslide"
    }
   },
   "outputs": [
    {
     "data": {
      "text/plain": [
       "[2, 3, 5, 7, 11, 13, 17, 19, 23, 29, 31]"
      ]
     },
     "execution_count": 6,
     "metadata": {},
     "output_type": "execute_result"
    }
   ],
   "source": [
    "extras = [23, 29, 31]\n",
    "primes.extend(extras)\n",
    "primes"
   ]
  },
  {
   "cell_type": "markdown",
   "metadata": {
    "slideshow": {
     "slide_type": "fragment"
    }
   },
   "source": [
    "![](img/5-8.png)"
   ]
  },
  {
   "cell_type": "code",
   "execution_count": 8,
   "metadata": {
    "slideshow": {
     "slide_type": "fragment"
    }
   },
   "outputs": [
    {
     "data": {
      "text/plain": [
       "True"
      ]
     },
     "execution_count": 8,
     "metadata": {},
     "output_type": "execute_result"
    }
   ],
   "source": [
    "id(extras[0]) == id(primes[8])"
   ]
  },
  {
   "cell_type": "code",
   "execution_count": 9,
   "metadata": {
    "slideshow": {
     "slide_type": "fragment"
    }
   },
   "outputs": [
    {
     "data": {
      "text/plain": [
       "True"
      ]
     },
     "execution_count": 9,
     "metadata": {},
     "output_type": "execute_result"
    }
   ],
   "source": [
    "extras[0] is primes[8]"
   ]
  },
  {
   "cell_type": "markdown",
   "metadata": {
    "slideshow": {
     "slide_type": "slide"
    }
   },
   "source": [
    "### Python中的紧凑数组\n",
    "\n",
    "- 不再像引用数组一样存储内存的地址，更高效利用内存空间\n",
    "- 紧凑数组中的元素在内存里中是连续存放的\n",
    "- array模块"
   ]
  },
  {
   "cell_type": "code",
   "execution_count": 10,
   "metadata": {
    "slideshow": {
     "slide_type": "fragment"
    }
   },
   "outputs": [
    {
     "data": {
      "text/plain": [
       "array('i', [2, 3, 5, 7, 11, 13, 17, 19])"
      ]
     },
     "execution_count": 10,
     "metadata": {},
     "output_type": "execute_result"
    }
   ],
   "source": [
    "from array import array\n",
    "primes = array('i', [2, 3, 5, 7, 11, 13, 17, 19])\n",
    "primes"
   ]
  },
  {
   "cell_type": "markdown",
   "metadata": {
    "slideshow": {
     "slide_type": "fragment"
    }
   },
   "source": [
    "- array模块支持的类型\n",
    "\n",
    "|参数|数据类型|字节数|\n",
    "|---|---|---|\n",
    "|'b'|signed char|1|\n",
    "|'B'|unsigned char|1|\n",
    "|'u'|Unicode char|2/4|\n",
    "|'h'|signed short int|2|\n",
    "|'H'|unsigned short int|2|\n",
    "|'i'|signed int|2/4|\n",
    "|'I'|unsigned int|2/4|\n",
    "|'l'|signed long int|4|\n",
    "|'L'|unsigned long int|4|\n",
    "|'f'|float|4|\n",
    "|'d'|double|8|"
   ]
  },
  {
   "cell_type": "markdown",
   "metadata": {
    "slideshow": {
     "slide_type": "slide"
    }
   },
   "source": [
    "## 动态数组和均摊\n",
    "\n",
    "Python的list类可以视为一种动态数组的实现"
   ]
  },
  {
   "cell_type": "code",
   "execution_count": 11,
   "metadata": {
    "slideshow": {
     "slide_type": "fragment"
    }
   },
   "outputs": [
    {
     "name": "stdout",
     "output_type": "stream",
     "text": [
      "List length:   0; Size in bytes:   64\n",
      "List length:   1; Size in bytes:   96\n",
      "List length:   2; Size in bytes:   96\n",
      "List length:   3; Size in bytes:   96\n",
      "List length:   4; Size in bytes:   96\n",
      "List length:   5; Size in bytes:  128\n",
      "List length:   6; Size in bytes:  128\n",
      "List length:   7; Size in bytes:  128\n",
      "List length:   8; Size in bytes:  128\n",
      "List length:   9; Size in bytes:  192\n"
     ]
    }
   ],
   "source": [
    "import sys\n",
    "data = []\n",
    "for k in range(10):\n",
    "    l = len(data)\n",
    "    s = sys.getsizeof(data)\n",
    "    print('List length: {0:3d}; Size in bytes: {1:4d}'.format(l, s))\n",
    "    data.append(k)"
   ]
  },
  {
   "cell_type": "markdown",
   "metadata": {
    "slideshow": {
     "slide_type": "slide"
    }
   },
   "source": [
    "### 实现一个动态数组 DynamicArray\n",
    "\n",
    "当数组A的容量达到上限，需要插入新的元素时，扩展数组A的步骤如下：\n",
    "\n",
    "1. 新分配一个更大的数组B；\n",
    "2. 令B[i]=A[i] (i=0,1,2...,n-1)；\n",
    "3. 令A=B, 在新分配的空间内添加元素；"
   ]
  },
  {
   "cell_type": "markdown",
   "metadata": {
    "slideshow": {
     "slide_type": "fragment"
    }
   },
   "source": [
    "![](img/5-9.png)"
   ]
  },
  {
   "cell_type": "code",
   "execution_count": 12,
   "metadata": {
    "slideshow": {
     "slide_type": "subslide"
    }
   },
   "outputs": [],
   "source": [
    "import ctypes\n",
    "\n",
    "\n",
    "class DynamicArray:\n",
    "    \"\"\"A simplified Python list which provides low-level array.\n",
    "    \"\"\"\n",
    "\n",
    "    def __init__(self):\n",
    "        \"\"\"Create an empty array when initialied.\n",
    "        \"\"\"\n",
    "        self._len = 0\n",
    "        self._cap = 1\n",
    "        self._A = self._make_array(self._cap)\n",
    "\n",
    "    def _make_array(self, cap):\n",
    "        \"\"\"Return new array with capacity.\n",
    "        \"\"\"\n",
    "        return (cap * ctypes.py_object)()\n",
    "\n",
    "    def __len__(self):\n",
    "        \"\"\"Return the number of elements in array.\n",
    "        \"\"\"\n",
    "        return self._len\n",
    "\n",
    "    def __getitem__(self, k):\n",
    "        \"\"\"Return the element of array which indexed at k.\n",
    "        \"\"\"\n",
    "        if not 0 <= k < self._len:\n",
    "            raise IndexError(\"wrong index\")\n",
    "        return self._A[k]\n",
    "\n",
    "    def append(self, val):\n",
    "        \"\"\"Add element to the end of array.\n",
    "        \"\"\"\n",
    "        if self._len == self._cap:\n",
    "            self._resize(2 * self._cap)\n",
    "        self._A[self._len] = val\n",
    "        self._len += 1\n",
    "\n",
    "    def _resize(self, cap):\n",
    "        B = self._make_array(cap)\n",
    "        for i in range(self._len):\n",
    "            B[i] = self._A[i]\n",
    "        self._A = B\n",
    "        self._cap = cap"
   ]
  },
  {
   "cell_type": "code",
   "execution_count": 13,
   "metadata": {
    "slideshow": {
     "slide_type": "subslide"
    }
   },
   "outputs": [
    {
     "name": "stdout",
     "output_type": "stream",
     "text": [
      "DynamicArray length:   0; capacity:    1\n",
      "DynamicArray length:   1; capacity:    1\n",
      "DynamicArray length:   2; capacity:    2\n",
      "DynamicArray length:   3; capacity:    4\n",
      "DynamicArray length:   4; capacity:    4\n",
      "DynamicArray length:   5; capacity:    8\n",
      "DynamicArray length:   6; capacity:    8\n",
      "DynamicArray length:   7; capacity:    8\n",
      "DynamicArray length:   8; capacity:    8\n",
      "DynamicArray length:   9; capacity:   16\n"
     ]
    }
   ],
   "source": [
    "da = DynamicArray()\n",
    "for k in range(10):\n",
    "    l = len(da)\n",
    "    s = da._cap\n",
    "    print('DynamicArray length: {0:3d}; capacity: {1:4d}'.format(l, s))\n",
    "    da.append(k)"
   ]
  },
  {
   "cell_type": "markdown",
   "metadata": {
    "slideshow": {
     "slide_type": "slide"
    }
   },
   "source": [
    "### 动态数组的均摊分析\n",
    "\n",
    "假设数组长度为n，插入操作根据数组位置的不同分为两种情况：\n",
    "\n",
    "1. 如果数组的容量未达到上限，此时直接在空闲位置插入数据，时间复杂度是O(1)\n",
    "2. 如果数组的容量已达到上限，会先对数组进行扩容操作，然后在执行插入操作，因为扩容时需要将原数组所有数据拷贝到新的内存空间中，时间复杂度是O(n)\n"
   ]
  },
  {
   "cell_type": "markdown",
   "metadata": {
    "slideshow": {
     "slide_type": "subslide"
    }
   },
   "source": [
    "![](img/5-10.png)"
   ]
  },
  {
   "cell_type": "markdown",
   "metadata": {
    "slideshow": {
     "slide_type": "subslide"
    }
   },
   "source": [
    "情况(1)和情况(2)中的每次操作的发生概率相同，都是$ \\frac{1}{n+1} $，所以根据加权平均可算出：\n",
    "\n",
    "$ \\sum_{i=1}^{n-1} \\frac{1}{n+1} + n \\times \\frac{1}{n+1} = \\frac{2n-1}{n+1} $\n",
    "\n",
    "动态数组插入操作的时间复杂度是O(1)"
   ]
  },
  {
   "cell_type": "markdown",
   "metadata": {
    "slideshow": {
     "slide_type": "slide"
    }
   },
   "source": [
    "### 简单测试Python list的append效率"
   ]
  },
  {
   "cell_type": "code",
   "execution_count": 14,
   "metadata": {
    "slideshow": {
     "slide_type": "fragment"
    }
   },
   "outputs": [
    {
     "name": "stdout",
     "output_type": "stream",
     "text": [
      "Python list size:       100, Average time of insertion: 324.06 ns\n",
      "Python list size:      1000, Average time of insertion: 256.46 ns\n",
      "Python list size:     10000, Average time of insertion: 122.14 ns\n",
      "Python list size:    100000, Average time of insertion: 110.41 ns\n",
      "Python list size:   1000000, Average time of insertion: 169.77 ns\n",
      "Python list size:  10000000, Average time of insertion: 181.31 ns\n"
     ]
    }
   ],
   "source": [
    "from time import perf_counter as pc\n",
    "\n",
    "def compute_average(n):\n",
    "    data = []\n",
    "    start = pc()\n",
    "    for _ in range(n):\n",
    "        data.append(None)\n",
    "    elapsed = pc() - start\n",
    "    return elapsed / n * 1000_000_000\n",
    "\n",
    "for k in (10**exp for exp in range(2, 8)):\n",
    "    avg_time = compute_average(k)\n",
    "    print(\"Python list size:%10d, Average time of insertion: %.2f ns\" % (k, avg_time))"
   ]
  },
  {
   "cell_type": "markdown",
   "metadata": {
    "slideshow": {
     "slide_type": "subslide"
    }
   },
   "source": [
    "![](img/5-11.png)"
   ]
  },
  {
   "cell_type": "markdown",
   "metadata": {
    "slideshow": {
     "slide_type": "slide"
    }
   },
   "source": [
    "## Python序列类型的效率\n",
    "\n",
    "### list/tuple\n",
    "\n",
    "- tuple比list有更高的内存利用效率，因为tuple是不可变的，所以不需要管理动态的空间\n",
    "- tuple有和list同样的不可变操作，时间复杂度也和list一样\n"
   ]
  },
  {
   "cell_type": "markdown",
   "metadata": {
    "slideshow": {
     "slide_type": "fragment"
    }
   },
   "source": [
    "|操作|示例|时间复杂度|注释|\n",
    "|---|---|---|---|\n",
    "| Index | d[k] | O(1) | |\n",
    "| Length | len(d) | O(1)| |\n",
    "| Count | d.count(val) | O(n)| 计算val出现的次数 |\n",
    "| Get index | d.index(val) | O(k+1) | |\n",
    "| Contain | val in d | O(k+1) | 顺序检索序列 |\n",
    "| Compare | d1 == d2 | O(k+1) | 与 !=, <, <=, >, >= 类同 |\n",
    "| Slice | d[j:k] | O(k-j+1) | |\n",
    "| Concat | d1 + d2 | O($n1+n2$) | |\n",
    "| Multiply | C * d | O(cn) | |\n",
    "| Extreme value | max(d) / min(d) | O(n) | 检索所有元素 |\n",
    "| Interation | for v in d | O(n) | |"
   ]
  },
  {
   "cell_type": "markdown",
   "metadata": {
    "slideshow": {
     "slide_type": "subslide"
    }
   },
   "source": [
    "- list可变操作的时间复杂度\n",
    "\n",
    "|操作|示例|时间复杂度|注释|\n",
    "|---|---|---|---|\n",
    "| Store | d[k] = 0 | O(1) | |\n",
    "| Append | d.append(val) | O(1)* | 均摊时间复杂度 |\n",
    "| Insert | d.insert(k, val) | O(n-k+1)* | 均摊时间复杂度 |\n",
    "| Pop | d.pop() | O(1)* | 同l.pop(-1)，从list末尾pop，均摊时间复杂度 |\n",
    "| Pop kth | d.pop(k) | O(n-k)* | 均摊时间复杂度 |\n",
    "| Delete | del d[k] | O(n-k)* | 均摊时间复杂度 |\n",
    "| Remove | d.remove(val) | O(n)* | 均摊时间复杂度 |\n",
    "| Extend | d1.extend(d2) / d1 += d2 | O($n_2$)* | 均摊时间复杂度 |\n",
    "| Reverse | d.reverse() | O(n) | |\n",
    "| Sort | d.sort() | O(nlogn) | |\n",
    "| Copy | d.copy() | O(n) | 类似d[:] |\n",
    "| Clear | d.clear() | O(1) | 类似d = [] |"
   ]
  },
  {
   "cell_type": "markdown",
   "metadata": {
    "slideshow": {
     "slide_type": "subslide"
    }
   },
   "source": [
    "### 简单测试Python list的insert效率"
   ]
  },
  {
   "cell_type": "code",
   "execution_count": 15,
   "metadata": {
    "slideshow": {
     "slide_type": "fragment"
    }
   },
   "outputs": [
    {
     "name": "stdout",
     "output_type": "stream",
     "text": [
      "--------------------------------------------------------------------------------\n",
      "Python list size:       100, Average time of insertion at head: 539.17 ns\n",
      "Python list size:       100, Average time of insertion at mid: 430.22 ns\n",
      "Python list size:       100, Average time of insertion at tail: 413.46 ns\n",
      "--------------------------------------------------------------------------------\n",
      "Python list size:      1000, Average time of insertion at head: 774.12 ns\n",
      "Python list size:      1000, Average time of insertion at mid: 792.00 ns\n",
      "Python list size:      1000, Average time of insertion at tail: 398.10 ns\n",
      "--------------------------------------------------------------------------------\n",
      "Python list size:     10000, Average time of insertion at head: 4257.05 ns\n",
      "Python list size:     10000, Average time of insertion at mid: 1477.45 ns\n",
      "Python list size:     10000, Average time of insertion at tail: 388.65 ns\n",
      "--------------------------------------------------------------------------------\n",
      "Python list size:    100000, Average time of insertion at head: 40436.49 ns\n",
      "Python list size:    100000, Average time of insertion at mid: 10349.94 ns\n",
      "Python list size:    100000, Average time of insertion at tail: 459.05 ns\n"
     ]
    }
   ],
   "source": [
    "from time import perf_counter as pc\n",
    "\n",
    "def clock(func):\n",
    "    def decorate(*args):\n",
    "        start = pc()\n",
    "        result = func(*args)\n",
    "        elapsed = pc() - start\n",
    "        return elapsed / result * 1000_000_000\n",
    "    return decorate\n",
    "\n",
    "@clock\n",
    "def compute_insert_average(n, insert_pos=0.0):\n",
    "    data = []\n",
    "    for i in range(n):\n",
    "        data.insert(int(n*insert_pos), None)\n",
    "    return len(data)\n",
    "\n",
    "for k in (10**exp for exp in range(2, 6)):\n",
    "    print('-'*80)\n",
    "    print(\"Python list size:%10d, Average time of insertion at head: %.2f ns\" % (k, compute_insert_average(k, 0.0)))\n",
    "    print(\"Python list size:%10d, Average time of insertion at mid: %.2f ns\" % (k, compute_insert_average(k, 0.5)))\n",
    "    print(\"Python list size:%10d, Average time of insertion at tail: %.2f ns\" % (k, compute_insert_average(k, 1.0)))"
   ]
  },
  {
   "cell_type": "markdown",
   "metadata": {
    "slideshow": {
     "slide_type": "slide"
    }
   },
   "source": [
    "#### DynamicArray实现insert方法\n",
    "\n",
    "比如 da.insert(k, val):\n",
    "\n",
    "1. 先检查DynamicArray的空间是否达到上限，如果达到就扩容2倍\n",
    "2. da中在k索引之后的所有元素都向后依次移动一位\n",
    "3. 把val值存储在da的k位上，然后da的长度增加1\n",
    "\n",
    "![](img/5-12.png)"
   ]
  },
  {
   "cell_type": "markdown",
   "metadata": {
    "slideshow": {
     "slide_type": "subslide"
    }
   },
   "source": [
    "```python\n",
    "def insert(self, k, val):\n",
    "    \"\"\"Insert value at index k and shifting subsequent values rightward.\n",
    "    \"\"\"\n",
    "    if self._len == self._cap:\n",
    "        self._resize(2 * self._cap)\n",
    "    # shifting the sub array to right    \n",
    "    for i in range(self._len, k, -1):\n",
    "        self._A[i] = self._A[i-1]\n",
    "    self._A[k] = val\n",
    "    self._len += 1\n",
    "```"
   ]
  },
  {
   "cell_type": "markdown",
   "metadata": {
    "slideshow": {
     "slide_type": "slide"
    }
   },
   "source": [
    "#### DynamicArray实现remove方法\n",
    "\n",
    "比如 da.remove(val):\n",
    "\n",
    "1. 依次检索da中的元素是否等于val，一旦找到相同元素：\n",
    "    1. 将此元素后的所有元素依次向前移动一位（最后一个元素置为None）\n",
    "    2. 将da的长度减少1\n",
    "2. 否则返回 ValueError\n",
    "\n",
    "![](img/5-13.png)"
   ]
  },
  {
   "cell_type": "markdown",
   "metadata": {
    "slideshow": {
     "slide_type": "subslide"
    }
   },
   "source": [
    "```python\n",
    "def remove(self, val):\n",
    "    \"\"\"Remove first occurrence of value, raise Value Error if not match.\n",
    "    \"\"\"\n",
    "    for k in range(self._len):\n",
    "        if self._A[k] == val:\n",
    "            for i in range(k, self._len - 1):\n",
    "                self._A[i] = self._A[i + 1]\n",
    "            self._A[self._len - 1] = None\n",
    "            self._len -= 1\n",
    "            return\n",
    "    raise ValueError('value not found')\n",
    "```"
   ]
  },
  {
   "cell_type": "markdown",
   "metadata": {
    "slideshow": {
     "slide_type": "slide"
    }
   },
   "source": [
    "### str\n",
    "\n",
    "- 字符串是一种非常特殊的immutable序列，现实中的执行效率往往比想象中的高\n",
    "- 有许多优化的算法来提高字符串的执行效率，比如匹配算法(CS101.13再详细介绍)\n",
    "- Python的解释器对字符串也有一定的优化\n",
    "```python\n",
    "for c in long_long_string:\n",
    "    if c.isalpha():\n",
    "        letters += c\n",
    "```\n",
    "- 通过更Pythonic的方式来优化\n",
    "```python\n",
    "letters = ''.join([c for c in long_long_string if c.isalpha()])\n",
    "letters = ''.join(c for c in long_long_string if c.isalpha())\n",
    "```"
   ]
  },
  {
   "cell_type": "code",
   "execution_count": 16,
   "metadata": {
    "slideshow": {
     "slide_type": "subslide"
    }
   },
   "outputs": [],
   "source": [
    "import random, string\n",
    "\n",
    "long_long_string = ''.join(random.choices(string.ascii_uppercase + string.digits, k=10000))\n"
   ]
  },
  {
   "cell_type": "code",
   "execution_count": 17,
   "metadata": {
    "slideshow": {
     "slide_type": "fragment"
    }
   },
   "outputs": [
    {
     "name": "stdout",
     "output_type": "stream",
     "text": [
      "3.2 ms ± 410 µs per loop (mean ± std. dev. of 7 runs, 100 loops each)\n"
     ]
    }
   ],
   "source": [
    "%%timeit\n",
    "letters = ''\n",
    "for c in long_long_string:\n",
    "    if c.isalpha():\n",
    "        letters += c"
   ]
  },
  {
   "cell_type": "code",
   "execution_count": 18,
   "metadata": {
    "slideshow": {
     "slide_type": "fragment"
    }
   },
   "outputs": [
    {
     "name": "stdout",
     "output_type": "stream",
     "text": [
      "1.12 ms ± 48 µs per loop (mean ± std. dev. of 7 runs, 1000 loops each)\n",
      "1.62 ms ± 55.6 µs per loop (mean ± std. dev. of 7 runs, 1000 loops each)\n"
     ]
    }
   ],
   "source": [
    "%timeit ''.join([c for c in long_long_string if c.isalpha()])\n",
    "%timeit ''.join(c for c in long_long_string if c.isalpha())"
   ]
  },
  {
   "cell_type": "markdown",
   "metadata": {
    "slideshow": {
     "slide_type": "slide"
    }
   },
   "source": [
    "## 多维数据集\n",
    "\n",
    "- 能否可以像创建一维数组一样创建多维数组？"
   ]
  },
  {
   "cell_type": "code",
   "execution_count": 19,
   "metadata": {
    "slideshow": {
     "slide_type": "fragment"
    }
   },
   "outputs": [
    {
     "data": {
      "text/plain": [
       "[[0, 0, 0], [0, 0, 0], [0, 0, 0], [0, 0, 0]]"
      ]
     },
     "execution_count": 19,
     "metadata": {},
     "output_type": "execute_result"
    }
   ],
   "source": [
    "array_2d = [ [0] * 3 ] * 4\n",
    "array_2d"
   ]
  },
  {
   "cell_type": "code",
   "execution_count": 20,
   "metadata": {
    "slideshow": {
     "slide_type": "fragment"
    }
   },
   "outputs": [
    {
     "data": {
      "text/plain": [
       "[[1, 0, 0], [1, 0, 0], [1, 0, 0], [1, 0, 0]]"
      ]
     },
     "execution_count": 20,
     "metadata": {},
     "output_type": "execute_result"
    }
   ],
   "source": [
    "array_2d[2][0] = 1\n",
    "array_2d"
   ]
  },
  {
   "cell_type": "markdown",
   "metadata": {
    "slideshow": {
     "slide_type": "fragment"
    }
   },
   "source": [
    "![](img/5-14.png)"
   ]
  },
  {
   "cell_type": "markdown",
   "metadata": {
    "slideshow": {
     "slide_type": "subslide"
    }
   },
   "source": [
    "- 正确的写法"
   ]
  },
  {
   "cell_type": "code",
   "execution_count": 21,
   "metadata": {
    "slideshow": {
     "slide_type": "fragment"
    }
   },
   "outputs": [
    {
     "data": {
      "text/plain": [
       "[[0, 0, 0], [0, 0, 0], [1, 0, 0], [0, 0, 0]]"
      ]
     },
     "execution_count": 21,
     "metadata": {},
     "output_type": "execute_result"
    }
   ],
   "source": [
    "array_2d = [ [0] * 3 for i in range(4) ]\n",
    "array_2d[2][0] = 1\n",
    "array_2d"
   ]
  },
  {
   "cell_type": "markdown",
   "metadata": {
    "slideshow": {
     "slide_type": "fragment"
    }
   },
   "source": [
    "- 更推荐使用Numpy/Pandas来创建多维数组（ML101中介绍）"
   ]
  },
  {
   "cell_type": "markdown",
   "metadata": {
    "slideshow": {
     "slide_type": "slide"
    }
   },
   "source": [
    "# Any Questions?"
   ]
  },
  {
   "cell_type": "markdown",
   "metadata": {
    "slideshow": {
     "slide_type": "slide"
    }
   },
   "source": [
    "## 课后作业 Assignment-03\n",
    "\n",
    "1) 课上我们已经实现了一个简单的动态数组DynamicArray，在此基础上我们需要对其进行重构新增一些新的Feature：\n",
    "\n",
    "a) 重构扩容的相关方法，使Dynamic在扩容时能更具不同的条件来选择扩大的容量。如果总容量小于1000时，扩容仍然采用达到上限是扩大2倍，但如果总容量等于或超过了1000，扩容的策略更变为达到上限后扩大为原有容量的1.25倍，即每次扩容只增加25%的空间。\n",
    "\n",
    "b) 新增一个pop()方法，此方法可以让DynamicArray删除并返回最后一个元素，并且为DynamicArray新增一个缩容的feature，即每当数组中的元素个数小于总容量的四分之一时，DynamicArray会自动缩容到原来容量的一半。\n",
    "\n",
    "P.S. 原DynamicArray的代码托管在[Github](https://github.com/shaqsnake/Data-Structures-and-Algorithms-in-Python/blob/master/src/ch05/dynamic_array.py)和[CodeClub](http://code.huawei.com/t00361654/CS101-DataStructures-and-Algorithms/blob/master/src/ch05/dynamic_array.py)上，可以自行参考，但建议看懂后能自己先重新实现一遍再开始做本题。\n"
   ]
  }
 ],
 "metadata": {
  "celltoolbar": "Slideshow",
  "kernelspec": {
   "display_name": "Python 3",
   "language": "python",
   "name": "python3"
  },
  "language_info": {
   "codemirror_mode": {
    "name": "ipython",
    "version": 3
   },
   "file_extension": ".py",
   "mimetype": "text/x-python",
   "name": "python",
   "nbconvert_exporter": "python",
   "pygments_lexer": "ipython3",
   "version": "3.6.5"
  }
 },
 "nbformat": 4,
 "nbformat_minor": 2
}

{
 "cells": [
  {
   "cell_type": "markdown",
   "metadata": {
    "slideshow": {
     "slide_type": "slide"
    }
   },
   "source": [
    "## 课后作业 Assignment-03\n",
    "\n",
    "1) 课上我们已经实现了一个简单的动态数组DynamicArray，在此基础上我们需要对其进行重构新增一些新的Feature：\n",
    "\n",
    "a) 重构扩容的相关方法，使Dynamic在扩容时能更具不同的条件来选择扩大的容量。如果总容量小于1000时，扩容仍然采用达到上限是扩大2倍，但如果总容量等于或超过了1000，扩容的策略更变为达到上限后扩大为原有容量的1.25倍，即每次扩容只增加25%的空间。\n",
    "\n",
    "b) 新增一个pop()方法，此方法可以让DynamicArray删除并返回最后一个元素，并且为DynamicArray新增一个缩容的feature，即每当数组中的元素个数小于总容量的四分之一时，DynamicArray会自动缩容到原来容量的一半。\n",
    "\n",
    "P.S. 原DynamicArray的代码托管在[Github](https://github.com/shaqsnake/Data-Structures-and-Algorithms-in-Python/blob/master/src/ch05/dynamic_array.py)和[CodeClub](http://code.huawei.com/t00361654/CS101-DataStructures-and-Algorithms/blob/master/src/ch05/dynamic_array.py)上，可以自行参考，但建议看懂后能自己先重新实现一遍再开始做本题。\n"
   ]
  }
 ],
 "metadata": {
  "celltoolbar": "Slideshow",
  "kernelspec": {
   "display_name": "Python 3",
   "language": "python",
   "name": "python3"
  },
  "language_info": {
   "codemirror_mode": {
    "name": "ipython",
    "version": 3
   },
   "file_extension": ".py",
   "mimetype": "text/x-python",
   "name": "python",
   "nbconvert_exporter": "python",
   "pygments_lexer": "ipython3",
   "version": "3.6.5"
  }
 },
 "nbformat": 4,
 "nbformat_minor": 2
}

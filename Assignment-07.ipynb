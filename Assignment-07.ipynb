{
 "cells": [
  {
   "cell_type": "markdown",
   "metadata": {
    "slideshow": {
     "slide_type": "slide"
    }
   },
   "source": [
    "## 课后作业 Assignment-07\n",
    "\n",
    "1) 反转一个二叉树，例如：\n",
    "\n",
    "输入: \n",
    "\n",
    "                    4\n",
    "                 /      \\\n",
    "               2         7\n",
    "              / \\       /   \\\n",
    "            1     3    6     9\n",
    "\n",
    "输出:  \n",
    "\n",
    "                    4\n",
    "                 /      \\\n",
    "               7         2\n",
    "              / \\       /   \\\n",
    "            9     6    3     1"
   ]
  },
  {
   "cell_type": "markdown",
   "metadata": {
    "slideshow": {
     "slide_type": "slide"
    }
   },
   "source": [
    "2）计算二叉树的高度。\n",
    "注：空节点的二叉树高度为0， 一个节点的二叉树高度为1，一个有根节点且包含至少一个子节点的二叉树高度为2，以此类推...\n",
    "例如下面这颗叉树的高度为4。\n",
    "\n",
    "\n",
    "                    9\n",
    "                 /      \\\n",
    "               6         12\n",
    "              / \\       /   \\\n",
    "            3     8   10      15\n",
    "                 /              \\\n",
    "                7                18"
   ]
  }
 ],
 "metadata": {
  "celltoolbar": "Slideshow",
  "kernelspec": {
   "display_name": "Python 3",
   "language": "python",
   "name": "python3"
  },
  "language_info": {
   "codemirror_mode": {
    "name": "ipython",
    "version": 3
   },
   "file_extension": ".py",
   "mimetype": "text/x-python",
   "name": "python",
   "nbconvert_exporter": "python",
   "pygments_lexer": "ipython3",
   "version": "3.6.5"
  }
 },
 "nbformat": 4,
 "nbformat_minor": 2
}
